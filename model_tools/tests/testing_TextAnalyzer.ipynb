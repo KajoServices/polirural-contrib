{
 "cells": [
  {
   "cell_type": "code",
   "execution_count": 22,
   "metadata": {},
   "outputs": [],
   "source": [
    "from nlp.processors import TextAnalyzer, get_wmd_data, my_wmd_mp, get_topic_from_lemma\n",
    "from tests.test_TextAnalyzer import *\n",
    "from pprint import pprint\n",
    "import re\n",
    "import time"
   ]
  },
  {
   "cell_type": "code",
   "execution_count": 2,
   "metadata": {},
   "outputs": [
    {
     "name": "stdout",
     "output_type": "stream",
     "text": [
      "Tretina vody v Európe sa využíva v odvetví poľnohospodárstva. Poľnohospodárstvo ovplyvňuje množstvo a kvalitu vody dostupnej na ostatné účely. V niektorých častiach Európy znečistenie z pesticídov a hnojív používaných výlučne v poľnohospodárstve ostáva hlavnou príčinou zlej kvality vody. Náš priemysel, životný štýl a osobné potreby našich rastúcich populácií takisto súperia s prírodou o využívanie čistej vody. Zmena klímy ďalej zvyšuje neistotu týkajúcu sa dostupnosti vodných zdrojov. Niektoré časti Európy očakávajú pre meniacu sa charakteristiku zrážok v budúcnosti viac a iné menej dostupnej sladkej vody. Keďže dopyt rastie a klíma sa mení, mnohí používatelia vrátane prírody budú mať ťažkosti uspokojiť svoje potreby vody. V prípade nedostatku vody môžu priemysel a domácnosti nájsť spôsoby, ako menej využívať vodu, ale našim ekosystémom závislým od vody hrozí nezvratné poškodenie. Ovplyvnilo by to omnoho viac ako len život v okolí určitého vodného útvaru. Aj my by sme to pocítili. Keď budeme uplatňovať správne poľnohospodárske postupy a podporné politické riešenia, môžeme dosiahnuť výrazný nárast efektívneho využívania vody v poľnohospodárstve, čo by znamenalo viac vody dostupnej na iné účely a najmä pre prírodu\n"
     ]
    }
   ],
   "source": [
    "print(text_sk_1)"
   ]
  },
  {
   "cell_type": "code",
   "execution_count": 3,
   "metadata": {},
   "outputs": [],
   "source": [
    "ta = TextAnalyzer(lang='en')\n",
    "topics = ta.TOPICS_LIST_LEMMA"
   ]
  },
  {
   "cell_type": "code",
   "execution_count": 4,
   "metadata": {},
   "outputs": [
    {
     "name": "stdout",
     "output_type": "stream",
     "text": [
      "5184 3750\n"
     ]
    }
   ],
   "source": [
    "topics_multiword = [t for t in topics if re.search(\"_\", t)]\n",
    "print(len(topics), len(topics_multiword))"
   ]
  },
  {
   "cell_type": "code",
   "execution_count": 5,
   "metadata": {
    "scrolled": true
   },
   "outputs": [
    {
     "data": {
      "text/plain": [
       "['local_development',\n",
       " 'rural_development',\n",
       " 'water_resource_management',\n",
       " 'level_education',\n",
       " 'general_education',\n",
       " 'bank_land',\n",
       " 'community_law',\n",
       " 'cultural_heritage',\n",
       " 'agricultural_land',\n",
       " 'agricultural_landscape',\n",
       " 'agricultural_production',\n",
       " 'economic_development',\n",
       " 'food_chain',\n",
       " 'food_industry',\n",
       " 'food_quality',\n",
       " 'global_warming',\n",
       " 'greenhouse_effect',\n",
       " 'industrial_development',\n",
       " 'labor_market',\n",
       " 'land_access',\n",
       " 'land_consolidation',\n",
       " 'land_planning',\n",
       " 'landscape_architecture',\n",
       " 'landscape_planning',\n",
       " 'land_use',\n",
       " 'land_use_planning',\n",
       " 'marine_environment',\n",
       " 'nature_conservation',\n",
       " 'nature_protection',\n",
       " 'organic_farming',\n",
       " 'physical_planning',\n",
       " 'primary_education',\n",
       " 'automobile_industry',\n",
       " 'quality_life',\n",
       " 'regional_development',\n",
       " 'resource_management',\n",
       " 'rural_population',\n",
       " 'secondary_education',\n",
       " 'soil_compaction',\n",
       " 'soil_degradation',\n",
       " 'soil_erosion',\n",
       " 'sustainable_development',\n",
       " 'urban_planning',\n",
       " 'water_body',\n",
       " 'water_erosion',\n",
       " 'water_management',\n",
       " 'wind_erosion',\n",
       " 'marine_ecosystem',\n",
       " 'coastal_ecosystem',\n",
       " 'freshwater_ecosystem',\n",
       " 'aquatic_ecosystem',\n",
       " 'land_use_plan',\n",
       " 'labor_force',\n",
       " 'inland_waterways_transport',\n",
       " 'farm_price',\n",
       " 'climatic_change',\n",
       " 'technological_change',\n",
       " 'environmental_change',\n",
       " 'land_management_planning',\n",
       " 'water_resource_development',\n",
       " 'industrial_crop',\n",
       " 'water_resource_conservation',\n",
       " 'motor_vehicle_industry',\n",
       " 'rural_management_planning',\n",
       " 'water_quality_management',\n",
       " 'cultivation_agricultural_land',\n",
       " 'agricultural_policy',\n",
       " 'food_production_agriculture',\n",
       " 'financial_instrument',\n",
       " 'urban_planning_development',\n",
       " 'surface_water_management',\n",
       " 'water_resource',\n",
       " 'management_natural_resource',\n",
       " 'natural_area_protection',\n",
       " 'nature_conservation_organization',\n",
       " 'food_processing_industry',\n",
       " 'urban_area',\n",
       " 'rural_area',\n",
       " 'municipal_water_management',\n",
       " 'surface_water',\n",
       " 'land_use_classification',\n",
       " 'water_quantity_management',\n",
       " 'nature_conservation_policy',\n",
       " 'european_union',\n",
       " 'public_service',\n",
       " 'health_service',\n",
       " 'social_service',\n",
       " 'natural_resource',\n",
       " 'forest_resource',\n",
       " 'renewable_resource',\n",
       " 'public_access_land',\n",
       " 'nature_conservation_program',\n",
       " 'nature_conservation_legislation',\n",
       " 'water_resource_legislation',\n",
       " 'man_climate_change',\n",
       " 'mean_agricultural_production',\n",
       " 'regulation_agricultural_production',\n",
       " 'environmental_protection_regulation',\n",
       " 'urban_development',\n",
       " 'urban_policy']"
      ]
     },
     "execution_count": 5,
     "metadata": {},
     "output_type": "execute_result"
    }
   ],
   "source": [
    "topics_multiword[:100]"
   ]
  },
  {
   "cell_type": "code",
   "execution_count": 6,
   "metadata": {},
   "outputs": [
    {
     "data": {
      "text/plain": [
       "1.192081851891157"
      ]
     },
     "execution_count": 6,
     "metadata": {},
     "output_type": "execute_result"
    }
   ],
   "source": [
    "ta._nlp.wmdistance('water_quality_management'.split(\"_\"), \"environmental_protection_regulation\".split(\"_\"))"
   ]
  },
  {
   "cell_type": "code",
   "execution_count": 7,
   "metadata": {},
   "outputs": [
    {
     "data": {
      "text/plain": [
       "1.1920833587646484"
      ]
     },
     "execution_count": 7,
     "metadata": {},
     "output_type": "execute_result"
    }
   ],
   "source": [
    "my_wmd_mp('en', 'water_quality_management'.split(\"_\"), \"environmental_protection_regulation\".split(\"_\"))"
   ]
  },
  {
   "cell_type": "code",
   "execution_count": 8,
   "metadata": {},
   "outputs": [
    {
     "data": {
      "text/plain": [
       "1.1920833587646484"
      ]
     },
     "execution_count": 8,
     "metadata": {},
     "output_type": "execute_result"
    }
   ],
   "source": [
    "ta._my_wmd_sim('water_quality_management'.split(\"_\"), \"environmental_protection_regulation\".split(\"_\"))"
   ]
  },
  {
   "cell_type": "raw",
   "metadata": {},
   "source": [
    "from tqdm import tqdm\n",
    "start = time.time()\n",
    "result_gensim = []\n",
    "for tp1 in tqdm(topics_multiword[:500]):\n",
    "    for tp2 in topics_multiword[500:1000]:\n",
    "        result_gensim.append(ta._nlp.wmdistance(tp1.split(\"_\"), tp2.split(\"_\")))\n",
    "print(time.time() - start)    "
   ]
  },
  {
   "cell_type": "raw",
   "metadata": {},
   "source": [
    "start = time.time()\n",
    "result = get_wmd_data('en', topics_multiword[:500], topics_multiword[500:1000])\n",
    "print(time.time() - start)  "
   ]
  },
  {
   "cell_type": "raw",
   "metadata": {},
   "source": [
    "for i in range(100):\n",
    "    #print(int((result[i]-result_gensim[i])*1000000))\n",
    "    print(abs(result[i]-result_gensim[i]) < 0.000001)"
   ]
  },
  {
   "cell_type": "raw",
   "metadata": {},
   "source": [
    "for lang in settings.SPACY_LANG_MODEL.keys():\n",
    "    print()\n",
    "    ta = TextAnalyzer(lang=lang)\n",
    "    topics = ta.TOPICS_LIST_LEMMA\n",
    "    topics_multiword = [t for t in topics if re.search(\"_\", t)]\n",
    "    slice1 = topics_multiword[:100]\n",
    "    slice2 = topics_multiword[100:200]\n",
    "    start = time.time()\n",
    "    result_gensim = []\n",
    "    for tp1 in slice1:\n",
    "        for tp2 in slice2:\n",
    "            result_gensim.append(ta._nlp.wmdistance(tp1.split(\"_\"), tp2.split(\"_\")))\n",
    "    time_gensim = time.time() - start\n",
    "    print(time_gensim)\n",
    "    \n",
    "    start = time.time()\n",
    "    result_mp = get_wmd_data(lang, slice1, slice2 )\n",
    "    time_mp = (time.time() - start) \n",
    "    print(time_mp)\n",
    "    results_compared = [(abs(r1-r2) < 0.00001) for r1,r2 in zip(result_gensim, result_mp)]\n",
    "    results_compared_values = [(abs(r1-r2),r1,r2) for r1,r2 in zip(result_gensim, result_mp)]\n",
    "    print(lang, all(results_compared))\n",
    "    wrong = 0\n",
    "    for r,(ra,r1,r2) in zip(results_compared, results_compared_values):\n",
    "        if not r:\n",
    "            #print(ra,r1,r2)\n",
    "            wrong += 1\n",
    "    print(\"wrong : \", wrong)  \n",
    "    assert all(results_compared)\n",
    "    assert time_gensim > time_mp"
   ]
  },
  {
   "cell_type": "raw",
   "metadata": {},
   "source": [
    "for i in range(100):\n",
    "    #print(int((result[i]-result_gensim[i])*1000000))\n",
    "    if not abs(result_mp[i]-result_gensim[i]) < 0.00001:\n",
    "        print(result_mp[i],result_gensim[i])"
   ]
  },
  {
   "cell_type": "code",
   "execution_count": 9,
   "metadata": {},
   "outputs": [],
   "source": [
    "texts = {\n",
    " 'cs': text_cs_1,\n",
    " 'el': text_el_1,\n",
    " 'en': text_en_1,\n",
    " 'es': text_es_1,\n",
    " 'fi': text_fi_1,\n",
    " 'it': text_it_1,\n",
    " 'lv': text_lv_1,\n",
    " 'nl': text_nl_1,\n",
    " 'pl': text_pl_1,\n",
    " 'sk': text_sk_1\n",
    "}\n",
    "\n",
    "#list(texts.items())"
   ]
  },
  {
   "cell_type": "code",
   "execution_count": 10,
   "metadata": {},
   "outputs": [],
   "source": [
    "pipelines = {\n",
    " 'cs': text_cs_pipeline1,\n",
    " 'el': text_el_pipeline1,\n",
    " 'en': text_en_pipeline1,\n",
    " 'es': text_es_pipeline1,\n",
    " 'fi': text_fi_pipeline1,\n",
    " 'it': text_it_pipeline1,\n",
    " 'lv': text_lv_pipeline1,\n",
    " 'nl': text_nl_pipeline1,\n",
    " 'pl': text_pl_pipeline1,\n",
    " 'sk': text_sk_pipeline1\n",
    "}\n",
    "\n",
    "#list(pipelines.items())"
   ]
  },
  {
   "cell_type": "code",
   "execution_count": 11,
   "metadata": {},
   "outputs": [],
   "source": [
    "for lang in texts.keys():\n",
    "    ta = TextAnalyzer(lang=lang)\n",
    "    keywords = ta.get_keywords(texts[lang])\n",
    "    #print(\"'{}' : {},\".format(lang, list(keywords.keys())))\n",
    "    assert set(keywords.keys()) == set(expected_keywords[lang])"
   ]
  },
  {
   "cell_type": "code",
   "execution_count": 12,
   "metadata": {},
   "outputs": [],
   "source": [
    "expected_keywords = {\n",
    "    'cs' : ['český_premiér_andrat_babiš', 'zemědělský_půda', 'špatný_osevní_postup', 'citlivý_hospodaření', 'vysoký_spotřeba_pesticid', 'správný_zemědělec', 'český_zemědělství', 'zemědělský_subjekt', 'osevní_postup', 'velkovýrobní_charakter'],\n",
    "    'el' : ['χαμηλότερες_αποδόσει', 'ελλείψει_νερός', 'βιολογικός_εκμεταλλεύσει', 'μεγαλύτερος_μέρος_νερός', 'κοντινός_πηγή_νερός', 'βιολογικός_γεωργία', 'περιπτώσει', 'νόστιμη_τροφή_φύκι', 'γενικός_γραμμή', 'νερό'],\n",
    "    'en' : ['food_safety', 'irish_food', 'new_market_opportunity', 'distant_market', 'quality_food_safety', 'agri_food_company', 'agri_food_export', 'traceability_system', 'irish', 'environmental_sustainability'],\n",
    "    'es' : ['emilio_gonzález', 'cultivo', 'materia', 'leguminoso', 'fijador', 'baloncesto', 'asociación_españolar_agricultura_conservación_suelo_vivo', 'aeac', 'síntoma', 'gestión'],\n",
    "    'fi' : ['pohjoinen_keski#määräinen_tuotto_hehtaara', 'pohjoinen_keski#määräinen_tuotto', 'keski#määräinen_tuotto_hehtaara', 'hehtaarikohtainen_tuotto', 'keski#määräinen_tuotto', 'kemiallinen_torjunta#aine_käyttö', 'yleinen_mainitunkaltainen_maa#talous', 'lauhkea_ilmastovyöhykkei_lehtimetsäaluei', 'kasvi', 'tietty_ala'],\n",
    "    'it' : ['considerarsi_energia_rinnovabile', 'energia_rinnovabile', 'fonte_fossile', 'energia_nucleare', 'fonte_energia_rinnovabile', 'tempo_umano', 'gas_naturale', 'risorsa_naturale', 'utilizzare_attuale', 'formazione_superiore'],\n",
    "    'lv' : ['liels_bioloģisks_lauksaimniecības', 'sintētisks_mēslojums_izmantošana', 'sintētisks_pesticīds_izmantošana', 'liels_bioloģisks_lauksaimniecības_īpatsvars', 'sintētisks_pārtika_apstrāde_līdzeklis', 'bioloģisks_pārtika_tirgus', 'bioloģisks_lauksaimniecībs', 'bioloģisks_lauksaimniecības_īpatsvars', 'bioloģisks_lauksaimniecības_standarts', 'sintētisks_antiviela_barošana'],\n",
    "    'nl' : ['biologisch_dynamisch_landbouw', 'dynamisch_landbouw', 'vruchtbaar_ontwikkeling', 'geesteswetenschappelijk_grondslag', 'vorig_eeuw', 'groot_zorg', 'rudolf_steiner', 'landbouwcursu', 'zuid-duitsland', 'dynamisch'],\n",
    "    'pl' : ['produkcja', 'produkcja_energia_odnawialny', 'wsparcie_rozwój_odnawialny_źródło', 'duży_gospodarstwo_wysoki_wskaźnik', 'wielki_część_potrzebny_żywność', 'obrać_własny', 'daleki_ciąg_potrzebny', 'świadomy_decyzja_zakupowy', 'przewidywalny_polityk', 'gospodarstwo_towarowy'],\n",
    "    'sk' : ['zliať_kvalita_voda', 'efektívny_využívanie_vod', 'dostupný_sladký_voda', 'sladký_voda', 'málo_dostupný_sladký_voda', 'čistý_voda', 'určitý_vodný_útvar', 'správne_poľnohospodársky_postup', 'vodný_útvar', 'osobný_potreba']\n",
    "}"
   ]
  },
  {
   "cell_type": "raw",
   "metadata": {},
   "source": [
    "for lang in texts.keys():\n",
    "    ta = TextAnalyzer(lang=lang)\n",
    "    topics = ta.topics(texts[lang])\n",
    "    #print(\"'{}' : {},\".format(lang, topics))\n",
    "    assert topics == expected_topics[lang]"
   ]
  },
  {
   "cell_type": "code",
   "execution_count": 13,
   "metadata": {},
   "outputs": [],
   "source": [
    "expected_topics = {\n",
    "    'cs' : ['půda zemědělská', 'ekonomika zemědělská', 'kultivace půdy zemědělské', 'zemědělství smíšené', 'hospodářství zemědělské', 'velkovýroba zemědělská', 'zemědělství', 'řízení správné', 'krajina zemědělská', 'využití zemědělské'],\n",
    "    'el' : ['λήψη νερού', 'μεταφορά νερού', 'ζήτηση νερού', 'βιολογική ρύπανση', 'ανάλυση νερού (υδάτων)', 'εκμετάλλευση υπόγειου νερού', 'απορρόφηση νερού από το έδαφος', 'στάθμη νερού (υδάτων)', 'αερισμός του νερού (των υδάτων)', 'αλληλεπίδραση αέρα-νερού'],\n",
    "    'en' : ['safety system', 'food quality', 'environment market', 'market study', 'energy market', 'market form', 'market', 'factor market', 'market economy', 'market research'],\n",
    "    'es' : ['agricultura', 'fertilizante nitrogenado', 'cultivo', 'forraje', 'fertilizantes', 'plantas forrajeras', 'planta forrajera', 'planta cultivada', 'cultivo de plantas', 'agricultura de secano'],\n",
    "    'fi' : ['tuotto', 'maatalouden tuhoeläin', 'pohjoisen ja etelän suhteet', 'maatalouden suunnittelu', 'yleinen kemia', 'Pohjoinen jäämeri', 'Pohjoinen Tyyni valtameri', 'kemiallinen lannoite', 'tulot', 'kemiallinen vaara'],\n",
    "    'it' : ['fonte di energia rinnovabile', 'energia nucleare', 'fonte di energia', 'energia da biomasse', 'energia geotermica', 'risorse naturali', 'energia eolica', 'energia idroelettrica', 'energia solare', 'energia convenzionale'],\n",
    "    'lv' : ['bioloģiskā lauksaimniecība', 'sintētisks tīrīšanas līdzeklis', 'bioloģiskā konkurence', 'bioloģiskā attīstība', 'bioloģiskais piesārņotājs', 'bioloģiskais rādītājs', 'krājumi (bioloģiskie)', 'bioloģiskā drošība', 'bioloģiskais mantojums', 'bioloģiskā inženierzinātne'],\n",
    "    'nl' : ['biologische ontwikkeling', 'milieu-ontwikkeling', 'stedelijk groen', 'technologische ontwikkeling', 'ecologische ontwikkeling', 'duurzame ontwikkeling', 'menselijke gezondheid', 'demografische ontwikkeling', 'economische ontwikkeling', 'sociale dynamiek'],\n",
    "    'pl' : ['źródło emisji', 'produkcja żywności', 'emisja', 'produkcja maszyn', 'produkcja drewna', 'produkcja nawozu', 'odpady produkcyjne', 'zrównoważony rozwój', 'ograniczenie produkcji', 'środowisko naturalne'],\n",
    "    'sk' : ['sladká voda', 'zdroje sladkej vody', 'znečistenie sladkých vôd', 'biológia sladkých vôd', 'monitoring sladkých vôd', 'degradácia sladkých vôd', 'ochrana sladkých vôd', 'surová voda', 'tvrdosť vody', 'chuť vody']    \n",
    "}"
   ]
  },
  {
   "cell_type": "code",
   "execution_count": 14,
   "metadata": {},
   "outputs": [
    {
     "name": "stdout",
     "output_type": "stream",
     "text": [
      "'cs' : 'oblast venkovská',\n",
      "'el' : 'αγροτική περιοχή',\n",
      "'en' : 'rural area',\n",
      "'es' : 'zonas rurales',\n",
      "'fi' : 'maaseutu, haja-asutusalue',\n",
      "'it' : 'area rurale',\n",
      "'lv' : 'lauku teritorija',\n",
      "'nl' : 'platteland',\n",
      "'pl' : 'tereny wiejskie',\n",
      "'sk' : 'vidiek',\n"
     ]
    }
   ],
   "source": [
    "from nlp.loaders import get_topic_id, get_topic_by_id\n",
    "topic_id = get_topic_id(lang='en', topic='rural area')\n",
    "for lang in texts.keys():\n",
    "    topic_info = get_topic_by_id(topic_id, lang=lang)\n",
    "    #print(lang, topic_info['topic'])\n",
    "    print(\"'{}' : '{}',\".format(lang, topic_info['topic']))"
   ]
  },
  {
   "cell_type": "code",
   "execution_count": 15,
   "metadata": {},
   "outputs": [],
   "source": [
    "root_topics = {\n",
    "'cs' : 'oblast venkovská',\n",
    "'el' : 'αγροτική περιοχή',\n",
    "'en' : 'rural area',\n",
    "'es' : 'zonas rurales',\n",
    "'fi' : 'maaseutu, haja-asutusalue',\n",
    "'it' : 'area rurale',\n",
    "'lv' : 'lauku teritorija',\n",
    "'nl' : 'platteland',\n",
    "'pl' : 'tereny wiejskie',\n",
    "'sk' : 'vidiek'\n",
    "}"
   ]
  },
  {
   "cell_type": "code",
   "execution_count": 21,
   "metadata": {
    "scrolled": false
   },
   "outputs": [
    {
     "name": "stdout",
     "output_type": "stream",
     "text": [
      "True\n",
      "{'oblast městská', 'oblast rekreační', 'oblast přírodní', 'venkovská', 'oblast', 'oblast rozvoje', 'řízení oblastí horských', 'oblast průmyslová', 'architektura venkovská', 'oblast turistická'}\n",
      "{'oblast městská', 'oblast rekreační', 'oblast přírodní', 'venkovská', 'oblast', 'oblast rozvoje', 'řízení oblastí horských', 'oblast průmyslová', 'architektura venkovská', 'oblast turistická'}\n",
      "True\n",
      "{'περιοχή ανάπτυξης', 'αγροτική (γεωργική) υποβάθμιση', 'βιομηχανική περιοχή', 'διαχείριση και σχεδιασμός αγροτικών περιοχών', 'ύδρευση αγροτικών περιοχών', 'αγροτικός οικισμός', 'αγροτικός', 'οικονομική περιοχή', 'αγροτικός προγραμματισμός', 'αγροτική ανάπτυξη'}\n",
      "{'περιοχή ανάπτυξης', 'αγροτική (γεωργική) υποβάθμιση', 'βιομηχανική περιοχή', 'διαχείριση και σχεδιασμός αγροτικών περιοχών', 'ύδρευση αγροτικών περιοχών', 'αγροτικός οικισμός', 'αγροτικός', 'οικονομική περιοχή', 'αγροτικός προγραμματισμός', 'αγροτική ανάπτυξη'}\n",
      "True\n",
      "{'residential area', 'urban_centres', 'large_city', 'small_town', 'urban_areas', 'rural_areas', 'rural_region', 'rural_regions', 'small_towns', 'urban area'}\n",
      "{'residential area', 'urban_centres', 'large_city', 'small_town', 'urban_areas', 'rural_areas', 'rural_region', 'rural_regions', 'small_towns', 'urban area'}\n",
      "True\n",
      "{'degradación de zonas urbanas', 'arquitectura rural', 'zona industrial', 'desarrollo rural', 'turismo rural', 'medio ambiente rural', 'asentamientos rurales', 'población rural', 'rural', 'zonas residenciales'}\n",
      "{'degradación de zonas urbanas', 'arquitectura rural', 'zona industrial', 'desarrollo rural', 'turismo rural', 'medio ambiente rural', 'asentamientos rurales', 'población rural', 'rural', 'zonas residenciales'}\n",
      "True\n",
      "{'haja-asutusalue', 'rakennettu alue, asutusalue', 'maaseudun asuinalue', 'kaupunkimainen asutus', 'asutusalue', 'väliaikainen asutus', 'asutus#alue', 'viljelemätön maa-alue', 'asutus(taajama)', 'asutus'}\n",
      "{'haja-asutusalue', 'rakennettu alue, asutusalue', 'maaseudun asuinalue', 'kaupunkimainen asutus', 'asutusalue', 'väliaikainen asutus', 'asutus#alue', 'viljelemätön maa-alue', 'asutus(taajama)', 'asutus'}\n",
      "True\n",
      "{'area naturale', 'Area mediterranea', 'area montuosa', 'area edificabile', 'area urbana', 'area edificata', 'area', 'area urbana degradata', 'area residenziale', 'area industriale'}\n",
      "{'area naturale', 'Area mediterranea', 'area montuosa', 'area edificabile', 'area urbana', 'area edificata', 'area', 'area urbana degradata', 'area residenziale', 'area industriale'}\n",
      "True\n",
      "{'lauku iedzīvotāji', 'lauku attīstība', 'lauku vide', 'likums par lauku teritorijām', 'ūdensapgāde lauku teritorijā', 'lauks', 'lauku teritorijas pārvaldība un plānošana', 'lauku namiņš', 'lauku saimniecība', 'lauku arhitektūra'}\n",
      "{'lauku iedzīvotāji', 'lauku attīstība', 'lauku vide', 'likums par lauku teritorijām', 'ūdensapgāde lauku teritorijā', 'lauks', 'lauku teritorijas pārvaldība un plānošana', 'lauku namiņš', 'lauku saimniecība', 'lauku arhitektūra'}\n",
      "True\n",
      "{'plattelands', 'plattelandsgebied', 'nederzetting in het platteland', 'plattelandsgemeenschap', 'plattelandsontwikkeling', 'plattelander', 'plattelandsbewoner', 'plattelandsleven', 'woongebied in het platteland', 'plattelandsbeleid'}\n",
      "{'plattelands', 'plattelandsgebied', 'nederzetting in het platteland', 'plattelandsgemeenschap', 'plattelandsontwikkeling', 'plattelander', 'plattelandsbewoner', 'plattelandsleven', 'woongebied in het platteland', 'plattelandsbeleid'}\n",
      "True\n",
      "{'teren', 'teren_leśny', 'budynki wiejskie', 'plan rozwoju terenów wiejskich', 'tereny poprzemysłowe', 'teren zabudowany', 'teren miejski', 'teren mieszkaniowy', 'wielofunkcyjne zagospodarowanie terenu', 'teren przemysłowy'}\n",
      "{'teren', 'teren_leśny', 'budynki wiejskie', 'plan rozwoju terenów wiejskich', 'tereny poprzemysłowe', 'teren zabudowany', 'teren miejski', 'teren mieszkaniowy', 'wielofunkcyjne zagospodarowanie terenu', 'teren przemysłowy'}\n",
      "False\n",
      "{'osídlenie vidieka', 'rozvoj vidieka', 'zásobovanie vidieka vodou', 'populácia vidieka', 'právo týkajúce sa vidieka'}\n",
      "{'chudobná štvrť mesta', 'osídlenie vidieka', 'ekonomický región', 'rozvoj vidieka', 'zásobovanie vidieka vodou', 'vidiecke prostredie', 'manažment a plánovanie vidieckej krajiny', 'populácia vidieka', 'región', 'právo týkajúce sa vidieka'}\n"
     ]
    }
   ],
   "source": [
    "#for (lang, root_topic, text) in [(\"sk\", \"voda\", text_sk_1), (\"en\", \"food\", text_en_1), (\"pl\", \"gospodarstwo_rolny\", text_pl_1), (\"cs\", \"zemědělství\", text_cs_1), (\"el\", \"μεταφορά_νερός\", text_el_1), (\"fi\", \"tuotto\", text_fi_1), (\"lv\", \"bioloģisks_lauksaimniecībs\", text_lv_1), (\"nl\", \"biologisch_ontwikkeling\", text_nl_1), (\"it\", \"produzione_energia\", text_it_1), (\"es\", \"ecología_agrícola\", text_es_1)]:\n",
    "for lang in root_topics.keys():\n",
    "    text = texts[lang]\n",
    "    root_topic = root_topics[lang]\n",
    "    ta = TextAnalyzer(lang=lang)\n",
    "    subtopics0 = ta.get_subtopics(root_topic, topn=10, depth=1, threshold=0.5)\n",
    "    subtopics_list0 = [s for s, _ in subtopics0[root_topic]['subtopics']]\n",
    "    assert set(subtopics_list0) == set(expected_subtopics[lang])\n",
    "    #print(\"'{}' : {},\".format(lang, subtopics_list0))\n",
    "    #pprint(subtopics)\n",
    "    #print()\n",
    "    subtopics = ta.get_subtopics(root_topic)\n",
    "    subtopics_list = [s for s, _ in subtopics[root_topic]['subtopics']]\n",
    "    print(set(subtopics_list) == set(expected_subtopics[lang]))\n",
    "    print(set(subtopics_list))\n",
    "    print(set(expected_subtopics[lang]))\n",
    "    subtopics_list = set(subtopics_list)\n",
    "    assert subtopics_list.issubset(set(expected_subtopics[lang]))\n",
    "    for st in subtopics_list:\n",
    "        assert subtopics[st]['distance'] == 1\n",
    "    #assert isinstance(subtopics, dict), \"subtopics are returned as dict\"\n",
    "    #assert len(subtopics) > 1, \"some subtopics found\"\n"
   ]
  },
  {
   "cell_type": "code",
   "execution_count": 17,
   "metadata": {},
   "outputs": [],
   "source": [
    "expected_subtopics = {\n",
    "    'cs' : ['architektura venkovská', 'venkovská', 'oblast turistická', 'oblast', 'oblast rozvoje', 'oblast přírodní', 'oblast průmyslová', 'oblast rekreační', 'řízení oblastí horských', 'oblast městská'],\n",
    "    'el' : ['διαχείριση και σχεδιασμός αγροτικών περιοχών', 'ύδρευση αγροτικών περιοχών', 'αγροτική ανάπτυξη', 'αγροτικός', 'βιομηχανική περιοχή', 'οικονομική περιοχή', 'αγροτικός προγραμματισμός', 'περιοχή ανάπτυξης', 'αγροτική (γεωργική) υποβάθμιση', 'αγροτικός οικισμός'],\n",
    "    'en' : ['urban area', 'rural_region', 'small_town', 'rural_areas', 'residential area', 'urban_areas', 'small_towns', 'large_city', 'urban_centres', 'rural_regions'],\n",
    "    'es' : ['asentamientos rurales', 'rural', 'población rural', 'medio ambiente rural', 'desarrollo rural', 'arquitectura rural', 'zonas residenciales', 'zona industrial', 'turismo rural', 'degradación de zonas urbanas'],\n",
    "    'fi' : ['haja-asutusalue', 'rakennettu alue, asutusalue', 'asutusalue', 'maaseudun asuinalue', 'asutus#alue', 'kaupunkimainen asutus', 'asutus', 'asutus(taajama)', 'väliaikainen asutus', 'viljelemätön maa-alue'],\n",
    "    'it' : ['area urbana', 'area residenziale', 'area industriale', 'Area mediterranea', 'area naturale', 'area edificabile', 'area', 'area edificata', 'area montuosa', 'area urbana degradata'],\n",
    "    'lv' : ['lauks', 'lauku saimniecība', 'lauku iedzīvotāji', 'lauku attīstība', 'ūdensapgāde lauku teritorijā', 'lauku arhitektūra', 'likums par lauku teritorijām', 'lauku teritorijas pārvaldība un plānošana', 'lauku namiņš', 'lauku vide'],\n",
    "    'nl' : ['woongebied in het platteland', 'nederzetting in het platteland', 'plattelander', 'plattelands', 'plattelandsleven', 'plattelandsontwikkeling', 'plattelandsgemeenschap', 'plattelandsbewoner', 'plattelandsbeleid', 'plattelandsgebied'],\n",
    "    'pl' : ['tereny poprzemysłowe', 'teren miejski', 'teren_leśny', 'teren przemysłowy', 'teren', 'teren mieszkaniowy', 'plan rozwoju terenów wiejskich', 'budynki wiejskie', 'wielofunkcyjne zagospodarowanie terenu', 'teren zabudowany'],\n",
    "    'sk' : ['populácia vidieka', 'rozvoj vidieka', 'osídlenie vidieka', 'zásobovanie vidieka vodou', 'právo týkajúce sa vidieka', 'chudobná štvrť mesta', 'ekonomický región', 'vidiecke prostredie', 'región', 'manažment a plánovanie vidieckej krajiny']\n",
    "}"
   ]
  },
  {
   "cell_type": "code",
   "execution_count": 26,
   "metadata": {},
   "outputs": [
    {
     "name": "stdout",
     "output_type": "stream",
     "text": [
      "'cs' : 'zemědělství',\n",
      "'el' : 'μεταφορά νερού',\n",
      "'en' : 'food',\n",
      "'es' : 'ecología agrícola',\n",
      "'fi' : 'tuotto',\n",
      "'it' : 'produzione di energia',\n",
      "'lv' : 'bioloģiskā lauksaimniecība',\n",
      "'nl' : 'biologische ontwikkeling',\n",
      "'pl' : 'gospodarstwo rolne',\n",
      "'sk' : 'voda',\n"
     ]
    }
   ],
   "source": [
    "tmp = [(\"sk\", \"voda\", text_sk_1), (\"en\", \"food\", text_en_1), (\"pl\", \"gospodarstwo_rolny\", text_pl_1), (\"cs\", \"zemědělství\", text_cs_1), (\"el\", \"μεταφορά_νερός\", text_el_1), (\"fi\", \"tuotto\", text_fi_1), (\"lv\", \"bioloģisks_lauksaimniecībs\", text_lv_1), (\"nl\", \"biologisch_ontwikkeling\", text_nl_1), (\"it\", \"produzione_energia\", text_it_1), (\"es\", \"ecología_agrícola\", text_es_1)]\n",
    "for (lang, root_topic, text) in sorted(tmp, key=lambda tup: tup[0]):\n",
    "    topic = get_topic_from_lemma(root_topic, lang=lang)\n",
    "    print(\"'{}' : '{}',\".format(lang, topic)) "
   ]
  },
  {
   "cell_type": "code",
   "execution_count": 27,
   "metadata": {},
   "outputs": [],
   "source": [
    "text_topics = {\n",
    "    'cs' : 'zemědělství',\n",
    "    'el' : 'μεταφορά νερού',\n",
    "    'en' : 'food',\n",
    "    'es' : 'ecología agrícola',\n",
    "    'fi' : 'tuotto',\n",
    "    'it' : 'produzione di energia',\n",
    "    'lv' : 'bioloģiskā lauksaimniecība',\n",
    "    'nl' : 'biologische ontwikkeling',\n",
    "    'pl' : 'gospodarstwo rolne',\n",
    "    'sk' : 'voda'\n",
    "}"
   ]
  },
  {
   "cell_type": "code",
   "execution_count": 31,
   "metadata": {},
   "outputs": [
    {
     "name": "stdout",
     "output_type": "stream",
     "text": [
      "'cs' : ['zemědělství ekologické', 'zemědělstv', 'ekologie zemědělství', 'produkce potravin [zemědělství]', 'hospodářství zemědělské'],\n",
      "'el' : ['νερός', 'εξοικονόμηση νερού', 'κόστος του νερού', 'αντλία νερού', 'απορρόφηση νερού από το έδαφος'],\n",
      "'en' : ['novel food', 'food irradiation', 'food transport', 'food additive', 'food storage'],\n",
      "'es' : ['contaminación agrícola', 'ecología forestal', 'biotecnología agrícola', 'agrícola', 'producción_bioenergía_agrícola'],\n",
      "'fi' : ['kokonaistuotto', 'nettotuotto', 'tuoto', 'sijoitustuotto', 'vuosituotto'],\n",
      "'it' : ['energia', 'impianto di produzione di energia elettrica', \"conservazione dell'energia\", 'energia convenzionale', 'fornitura di energia'],\n",
      "'lv' : ['bioloģisks', 'bioloģiskā attīstība', 'bioloģiskā ražošana', 'bioloģiskā inženierzinātne', 'bioloģiskais piesārņojums'],\n",
      "'nl' : ['biologisch', 'specialisatie (biologisch)', 'biologische activiteit', 'biologische eigenschap', 'concurrentie [biologisch]'],\n",
      "'pl' : ['rolny', 'nieruchomość rolna', 'ekosystem rolny', 'grunty rolne', 'gospodarka_grunt_rolny'],\n",
      "'sk' : ['odsoľovanie vody', 'prevzdušňovanie vody', 'zasoľovanie vôd', 'pramenitá voda', 'demineralizácia vody'],\n"
     ]
    }
   ],
   "source": [
    "for lang in text_topics.keys():\n",
    "    text = texts[lang]\n",
    "    root_topic = text_topics[lang]\n",
    "    ta = TextAnalyzer(lang=lang)\n",
    "    subtopics = ta.get_subtopics_from_text(text, root_topic, depth=1)\n",
    "    subtopics_list = [s for s, _ in subtopics[root_topic]['subtopics']]\n",
    "    subtopics_set = set(subtopics_list)\n",
    "    print(\"'{}' : {},\".format(lang, subtopics_list)) \n",
    "    #pprint(subtopics)\n",
    "    #assert subtopics_set.issubset(set(expected_subtopics[lang]))\n",
    "    #assert isinstance(subtopics, dict)\n",
    "    #assert len(subtopics) > 1"
   ]
  },
  {
   "cell_type": "code",
   "execution_count": 32,
   "metadata": {},
   "outputs": [],
   "source": [
    "expected_subtopics_from_text = {\n",
    "    'cs' : ['zemědělství ekologické', 'zemědělstv', 'ekologie zemědělství', 'produkce potravin [zemědělství]', 'hospodářství zemědělské'],\n",
    "    'el' : ['νερός', 'εξοικονόμηση νερού', 'κόστος του νερού', 'αντλία νερού', 'απορρόφηση νερού από το έδαφος'],\n",
    "    'en' : ['novel food', 'food irradiation', 'food transport', 'food additive', 'food storage'],\n",
    "    'es' : ['contaminación agrícola', 'ecología forestal', 'biotecnología agrícola', 'agrícola', 'producción_bioenergía_agrícola'],\n",
    "    'fi' : ['kokonaistuotto', 'nettotuotto', 'tuoto', 'sijoitustuotto', 'vuosituotto'],\n",
    "    'it' : ['energia', 'impianto di produzione di energia elettrica', \"conservazione dell'energia\", 'energia convenzionale', 'fornitura di energia'],\n",
    "    'lv' : ['bioloģisks', 'bioloģiskā attīstība', 'bioloģiskā ražošana', 'bioloģiskā inženierzinātne', 'bioloģiskais piesārņojums'],\n",
    "    'nl' : ['biologisch', 'specialisatie (biologisch)', 'biologische activiteit', 'biologische eigenschap', 'concurrentie [biologisch]'],\n",
    "    'pl' : ['rolny', 'nieruchomość rolna', 'ekosystem rolny', 'grunty rolne', 'gospodarka_grunt_rolny'],\n",
    "    'sk' : ['odsoľovanie vody', 'prevzdušňovanie vody', 'zasoľovanie vôd', 'pramenitá voda', 'demineralizácia vody']\n",
    "}"
   ]
  },
  {
   "cell_type": "code",
   "execution_count": 35,
   "metadata": {},
   "outputs": [
    {
     "name": "stdout",
     "output_type": "stream",
     "text": [
      "{'zemědělství': {'distance': 0,\n",
      "                 'subtopics': [('zemědělství ekologické', 0.8392747044563293),\n",
      "                               ('zemědělstv', 0.8045328259468079),\n",
      "                               ('ekologie zemědělství', 0.7959553003311157),\n",
      "                               ('produkce potravin [zemědělství]',\n",
      "                                0.795362114906311),\n",
      "                               ('hospodářství zemědělské',\n",
      "                                0.7938774824142456)]}}\n",
      "True\n",
      "{'produkce potravin [zemědělství]', 'zemědělstv', 'ekologie zemědělství', 'hospodářství zemědělské', 'zemědělství ekologické'}\n",
      "{'oblast městská', 'oblast rekreační', 'oblast přírodní', 'venkovská', 'oblast', 'oblast rozvoje', 'řízení oblastí horských', 'oblast průmyslová', 'architektura venkovská', 'oblast turistická'}\n",
      "{'μεταφορά νερού': {'distance': 0,\n",
      "                    'subtopics': [('νερός', 0.9253592491149902),\n",
      "                                  ('εξοικονόμηση νερού', 0.8972455263137817),\n",
      "                                  ('κόστος του νερού', 0.8716057538986206),\n",
      "                                  ('αντλία νερού', 0.8641544580459595),\n",
      "                                  ('απορρόφηση νερού από το έδαφος',\n",
      "                                   0.8567700982093811)]}}\n",
      "True\n",
      "{'εξοικονόμηση νερού', 'αντλία νερού', 'απορρόφηση νερού από το έδαφος', 'κόστος του νερού', 'νερός'}\n",
      "{'περιοχή ανάπτυξης', 'αγροτική (γεωργική) υποβάθμιση', 'βιομηχανική περιοχή', 'διαχείριση και σχεδιασμός αγροτικών περιοχών', 'ύδρευση αγροτικών περιοχών', 'αγροτικός οικισμός', 'αγροτικός', 'οικονομική περιοχή', 'αγροτικός προγραμματισμός', 'αγροτική ανάπτυξη'}\n",
      "{'food': {'distance': 0,\n",
      "          'subtopics': [('novel food', 0.8897194862365723),\n",
      "                        ('food irradiation', 0.8492574691772461),\n",
      "                        ('food transport', 0.8259578347206116),\n",
      "                        ('food additive', 0.8244071006774902),\n",
      "                        ('food storage', 0.8177305459976196)]}}\n",
      "True\n",
      "{'novel food', 'food additive', 'food irradiation', 'food transport', 'food storage'}\n",
      "{'residential area', 'urban_centres', 'large_city', 'small_town', 'urban_areas', 'rural_areas', 'rural_region', 'rural_regions', 'small_towns', 'urban area'}\n",
      "{'ecología agrícola': {'distance': 0,\n",
      "                       'subtopics': [('contaminación agrícola',\n",
      "                                      0.8622783422470093),\n",
      "                                     ('ecología forestal', 0.858552098274231),\n",
      "                                     ('biotecnología agrícola',\n",
      "                                      0.8576864004135132),\n",
      "                                     ('agrícola', 0.8344117999076843),\n",
      "                                     ('producción_bioenergía_agrícola',\n",
      "                                      0.8294312953948975)]}}\n",
      "True\n",
      "{'contaminación agrícola', 'biotecnología agrícola', 'agrícola', 'producción_bioenergía_agrícola', 'ecología forestal'}\n",
      "{'degradación de zonas urbanas', 'arquitectura rural', 'zona industrial', 'desarrollo rural', 'turismo rural', 'medio ambiente rural', 'asentamientos rurales', 'población rural', 'rural', 'zonas residenciales'}\n",
      "{'tuotto': {'distance': 0,\n",
      "            'subtopics': [('kokonaistuotto', 0.7937231063842773),\n",
      "                          ('nettotuotto', 0.7655086517333984),\n",
      "                          ('tuoto', 0.7616642713546753),\n",
      "                          ('sijoitustuotto', 0.7508947849273682),\n",
      "                          ('vuosituotto', 0.7491374611854553)]}}\n",
      "True\n",
      "{'kokonaistuotto', 'tuoto', 'vuosituotto', 'sijoitustuotto', 'nettotuotto'}\n",
      "{'haja-asutusalue', 'rakennettu alue, asutusalue', 'maaseudun asuinalue', 'kaupunkimainen asutus', 'asutusalue', 'väliaikainen asutus', 'asutus#alue', 'viljelemätön maa-alue', 'asutus(taajama)', 'asutus'}\n",
      "{'produzione di energia': {'distance': 0,\n",
      "                           'subtopics': [('energia', 0.897281289100647),\n",
      "                                         ('impianto di produzione di energia '\n",
      "                                          'elettrica',\n",
      "                                          0.8780548572540283),\n",
      "                                         (\"conservazione dell'energia\",\n",
      "                                          0.8706029653549194),\n",
      "                                         ('energia convenzionale',\n",
      "                                          0.864477276802063),\n",
      "                                         ('fornitura di energia',\n",
      "                                          0.8561789989471436)]}}\n",
      "True\n",
      "{\"conservazione dell'energia\", 'fornitura di energia', 'energia convenzionale', 'impianto di produzione di energia elettrica', 'energia'}\n",
      "{'area naturale', 'Area mediterranea', 'area montuosa', 'area edificabile', 'area urbana', 'area edificata', 'area', 'area urbana degradata', 'area residenziale', 'area industriale'}\n",
      "{'bioloģiskā lauksaimniecība': {'distance': 0,\n",
      "                                'subtopics': [('bioloģisks',\n",
      "                                               0.8978281021118164),\n",
      "                                              ('bioloģiskā attīstība',\n",
      "                                               0.8405375480651855),\n",
      "                                              ('bioloģiskā ražošana',\n",
      "                                               0.8398550748825073),\n",
      "                                              ('bioloģiskā inženierzinātne',\n",
      "                                               0.819902241230011),\n",
      "                                              ('bioloģiskais piesārņojums',\n",
      "                                               0.812096893787384)]}}\n",
      "True\n",
      "{'bioloģisks', 'bioloģiskā inženierzinātne', 'bioloģiskais piesārņojums', 'bioloģiskā attīstība', 'bioloģiskā ražošana'}\n",
      "{'lauku iedzīvotāji', 'lauku attīstība', 'lauku vide', 'likums par lauku teritorijām', 'ūdensapgāde lauku teritorijā', 'lauks', 'lauku teritorijas pārvaldība un plānošana', 'lauku namiņš', 'lauku saimniecība', 'lauku arhitektūra'}\n",
      "{'biologische ontwikkeling': {'distance': 0,\n",
      "                              'subtopics': [('biologisch', 0.8963630199432373),\n",
      "                                            ('specialisatie (biologisch)',\n",
      "                                             0.894517183303833),\n",
      "                                            ('biologische activiteit',\n",
      "                                             0.8792070150375366),\n",
      "                                            ('biologische eigenschap',\n",
      "                                             0.860542893409729),\n",
      "                                            ('concurrentie [biologisch]',\n",
      "                                             0.8580208420753479)]}}\n",
      "True\n",
      "{'concurrentie [biologisch]', 'biologisch', 'biologische eigenschap', 'specialisatie (biologisch)', 'biologische activiteit'}\n",
      "{'plattelands', 'plattelandsgebied', 'nederzetting in het platteland', 'plattelandsgemeenschap', 'plattelandsontwikkeling', 'plattelander', 'plattelandsbewoner', 'plattelandsleven', 'woongebied in het platteland', 'plattelandsbeleid'}\n",
      "{'gospodarstwo rolne': {'distance': 0,\n",
      "                        'subtopics': [('rolny', 0.9660581946372986),\n",
      "                                      ('nieruchomość rolna', 0.943323016166687),\n",
      "                                      ('ekosystem rolny', 0.9337265491485596),\n",
      "                                      ('grunty rolne', 0.9272735714912415),\n",
      "                                      ('gospodarka_grunt_rolny',\n",
      "                                       0.9264678955078125)]}}\n",
      "True\n",
      "{'ekosystem rolny', 'nieruchomość rolna', 'grunty rolne', 'rolny', 'gospodarka_grunt_rolny'}\n",
      "{'teren', 'teren_leśny', 'budynki wiejskie', 'plan rozwoju terenów wiejskich', 'tereny poprzemysłowe', 'teren zabudowany', 'teren miejski', 'teren mieszkaniowy', 'wielofunkcyjne zagospodarowanie terenu', 'teren przemysłowy'}\n",
      "{'voda': {'distance': 0,\n",
      "          'subtopics': [('odsoľovanie vody', 0.9261003732681274),\n",
      "                        ('prevzdušňovanie vody', 0.9142141342163086),\n",
      "                        ('zasoľovanie vôd', 0.9132626056671143),\n",
      "                        ('pramenitá voda', 0.9082244634628296),\n",
      "                        ('demineralizácia vody', 0.9076434373855591)]}}\n",
      "True\n",
      "{'zasoľovanie vôd', 'demineralizácia vody', 'odsoľovanie vody', 'prevzdušňovanie vody', 'pramenitá voda'}\n",
      "{'chudobná štvrť mesta', 'osídlenie vidieka', 'ekonomický región', 'rozvoj vidieka', 'zásobovanie vidieka vodou', 'vidiecke prostredie', 'manažment a plánovanie vidieckej krajiny', 'populácia vidieka', 'región', 'právo týkajúce sa vidieka'}\n"
     ]
    }
   ],
   "source": [
    "for lang in root_topics.keys():\n",
    "    text = texts[lang]\n",
    "    root_topic = text_topics[lang]\n",
    "    ta = TextAnalyzer(lang=lang)\n",
    "    subtopics0 = ta.get_subtopics_from_text(text, root_topic, depth=1)\n",
    "    pprint(subtopics0)\n",
    "    subtopics_list0 = [s for s, _ in subtopics0[root_topic]['subtopics']]\n",
    "    assert set(subtopics_list0) == set(expected_subtopics_from_text[lang])\n",
    "    #print(\"'{}' : {},\".format(lang, subtopics_list0))\n",
    "    #pprint(subtopics)\n",
    "    #print()\n",
    "    subtopics = ta.get_subtopics_from_text(text, root_topic)\n",
    "    subtopics_list = [s for s, _ in subtopics[root_topic]['subtopics']]\n",
    "    print(set(subtopics_list) == set(expected_subtopics_from_text[lang]))\n",
    "    print(set(subtopics_list))\n",
    "    print(set(expected_subtopics[lang]))\n",
    "    subtopics_set = set(subtopics_list)\n",
    "    assert subtopics_set.issubset(set(expected_subtopics_from_text[lang]))\n",
    "    for st in subtopics_list:\n",
    "        assert subtopics[st]['distance'] == 1\n",
    "    #assert isinstance(subtopics, dict), \"subtopics are returned as dict\"\n",
    "    #assert len(subtopics) > 1, \"some subtopics found\"\n"
   ]
  }
 ],
 "metadata": {
  "kernelspec": {
   "display_name": "kajo_semexp_core",
   "language": "python",
   "name": "kajo_semexp_core"
  },
  "language_info": {
   "codemirror_mode": {
    "name": "ipython",
    "version": 3
   },
   "file_extension": ".py",
   "mimetype": "text/x-python",
   "name": "python",
   "nbconvert_exporter": "python",
   "pygments_lexer": "ipython3",
   "version": "3.6.9"
  }
 },
 "nbformat": 4,
 "nbformat_minor": 2
}
