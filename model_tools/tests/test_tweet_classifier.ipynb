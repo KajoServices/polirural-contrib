{
 "cells": [
  {
   "cell_type": "code",
   "execution_count": 1,
   "metadata": {},
   "outputs": [],
   "source": [
    "from nlp.processors import TextProcessor\n",
    "import pandas as pd"
   ]
  },
  {
   "cell_type": "code",
   "execution_count": 2,
   "metadata": {},
   "outputs": [
    {
     "name": "stdout",
     "output_type": "stream",
     "text": [
      "{'class': None, 'class_probability': 0.0}\n"
     ]
    }
   ],
   "source": [
    "tp = TextProcessor(lang='sk')\n",
    "text = 'pozor, pozor, hlásenie'\n",
    "result = tp.classify_tweet(text)\n",
    "print(result)\n",
    "assert result['class'] == None"
   ]
  },
  {
   "cell_type": "code",
   "execution_count": 3,
   "metadata": {},
   "outputs": [],
   "source": [
    "tp = TextProcessor(lang='en')\n",
    "result = tp.classify_tweet(\"\")\n",
    "assert result['class'] == \"\""
   ]
  },
  {
   "cell_type": "code",
   "execution_count": 9,
   "metadata": {},
   "outputs": [
    {
     "name": "stdout",
     "output_type": "stream",
     "text": [
      "{'class': '', 'class_probability': 0.0}\n"
     ]
    }
   ],
   "source": [
    "text = \"thank you for all your concerns earthquake was scary but thankfully everyone praying for italy\"\n",
    "#text = \"we have water outside\"\n",
    "#text = \"help me! my house is destroyed i don't have roof\"\n",
    "#text = \"newspaper informs about earthquake in the ocean\"\n",
    "#text = \"cannot access my car\"\n",
    "text = \"asdf23\"\n",
    "\n",
    "result = tp.classify_tweet(text)\n",
    "print(result)"
   ]
  },
  {
   "cell_type": "code",
   "execution_count": 5,
   "metadata": {},
   "outputs": [
    {
     "name": "stdout",
     "output_type": "stream",
     "text": [
      "<class 'pandas.core.frame.DataFrame'>\n",
      "RangeIndex: 27958 entries, 0 to 27957\n",
      "Data columns (total 9 columns):\n",
      " #   Column           Non-Null Count  Dtype \n",
      "---  ------           --------------  ----- \n",
      " 0   Unnamed: 0       27958 non-null  int64 \n",
      " 1   tweet_id         27958 non-null  object\n",
      " 2   tweet_text       27958 non-null  object\n",
      " 3   inf_source       27958 non-null  object\n",
      " 4   inf_type         27958 non-null  object\n",
      " 5   informativeness  27958 non-null  object\n",
      " 6   language_spacy   27958 non-null  object\n",
      " 7   parsed_text      27677 non-null  object\n",
      " 8   entities         27958 non-null  object\n",
      "dtypes: int64(1), object(8)\n",
      "memory usage: 1.9+ MB\n",
      "<class 'pandas.core.frame.DataFrame'>\n",
      "Int64Index: 412 entries, 93 to 27864\n",
      "Data columns (total 9 columns):\n",
      " #   Column           Non-Null Count  Dtype \n",
      "---  ------           --------------  ----- \n",
      " 0   Unnamed: 0       412 non-null    int64 \n",
      " 1   tweet_id         412 non-null    object\n",
      " 2   tweet_text       412 non-null    object\n",
      " 3   inf_source       412 non-null    object\n",
      " 4   inf_type         412 non-null    object\n",
      " 5   informativeness  412 non-null    object\n",
      " 6   language_spacy   412 non-null    object\n",
      " 7   parsed_text      407 non-null    object\n",
      " 8   entities         412 non-null    object\n",
      "dtypes: int64(1), object(8)\n",
      "memory usage: 32.2+ KB\n"
     ]
    }
   ],
   "source": [
    "df = pd.read_csv('/home/dzon/kajo/crisislex/CrisisLex_all_parsed_en.csv')\n",
    "df.info()\n",
    "df_tmp = df[df['inf_source'] == 'Not applicable']\n",
    "df_tmp.info()\n",
    "tweets = df_tmp['tweet_text'].tolist()\n",
    "tweets_classes = df_tmp['inf_source'].tolist()"
   ]
  },
  {
   "cell_type": "code",
   "execution_count": 6,
   "metadata": {
    "scrolled": false
   },
   "outputs": [
    {
     "name": "stdout",
     "output_type": "stream",
     "text": [
      "RT @coolvirus: Freudian slip? MT @TODAYonline: V Balakrishnan: NEA will b completely transparent in the mgmt of this crisis #sghaze http://…\n",
      "Not applicable {'class': 'Not applicable', 'class_probability': 0.29430797669465864} \n",
      "\n",
      "#TBT Philippines 1998! Jada in stroller! She learned to walk there!!!! Yay🏃#phillipines #bohol… http://t.co/AIotXIKwol\n",
      "Not applicable {'class': 'Not applicable', 'class_probability': 0.5644568506750007} \n",
      "\n",
      "http://t.co/5ZkDcu2D Haha!! . This makes myself laugh  #RussianMeteor\n",
      "Not applicable {'class': 'Not applicable', 'class_probability': 0.6650428628260485} \n",
      "\n",
      "http://t.co/fLVH9b4V #Sismo de 5.0  grados a las 17:42:37UTC de 21/11/2012  en NEAR THE EAST COAST OF HONSHU, JAPAN http://t.co/XM2IfHmw\n",
      "Not applicable {'class': 'Not applicable', 'class_probability': 0.5266267158589956} \n",
      "\n"
     ]
    }
   ],
   "source": [
    "import random\n",
    "#print(random.sample(range(len(tweets)), 10))\n",
    "for i in random.sample(range(len(tweets)), 50):\n",
    "    text = tweets[i]\n",
    "    text_class = tweets_classes[i]\n",
    "    result = tp.classify_tweet(text)\n",
    "    if result['class'] != 'Not applicable':\n",
    "        continue\n",
    "    print(text)\n",
    "    print(text_class, result, \"\\n\")\n",
    "    "
   ]
  },
  {
   "cell_type": "code",
   "execution_count": 10,
   "metadata": {},
   "outputs": [
    {
     "name": "stdout",
     "output_type": "stream",
     "text": [
      "Report: Strong quake off Guatemala is felt in Mexico City - http://t.co/fpjpvqES http://t.co/Y23hxGaF\n",
      "Media {'class': 'Media', 'class_probability': 0.6599772813437991} \n",
      "\n",
      "RT @CalgaryPolice: Check here to see what areas of Montgomery must be evacuated: http://t.co/0p1PSfn001 #yycflood\n",
      "Government {'class': 'Government', 'class_probability': 0.5927475577075876} \n",
      "\n",
      "RT @willienelson: West has been in my backyard all my life.  My heart is praying for the community that we call home. #westtx\n",
      "Outsiders {'class': 'Outsiders', 'class_probability': 0.8100126915790182} \n",
      "\n",
      "@IdilioMon: #coloradoflood ==&gt; Street view from my home this afternoon. Rain, rain, go away... http://t.co/H3FdI3A1NQ\n",
      "Eyewitness {'class': 'Eyewitness', 'class_probability': 0.6232199325538211} \n",
      "\n",
      "GLOBE SUBS: Donate to Red Cross now. Text RED &lt;amt&gt; to 2899. Denoms. in 5, 25, 50, 100, 300, 500 and 1000. #YolandaPH #ReliefPH\n",
      "NGOs {'class': 'NGOs', 'class_probability': 0.7554447439587917} \n",
      "\n",
      "RT @joeshowradio: @joerogan The Bill of Rights was written for Dzhokar Tsarnaev: http://t.co/bmZUZRg4U4\n",
      "Not applicable {'class': 'Not applicable', 'class_probability': 0.622426765960491} \n",
      "\n",
      "Hyundai, Mazda and Ford offering support to victims of Colorado flooding - Autoblog http://t.co/wPAIDzT2UV\n",
      "Business {'class': 'Business', 'class_probability': 0.6252521697100699} \n",
      "\n"
     ]
    }
   ],
   "source": [
    "test_tweets = [\n",
    "    ('Media', 'Report: Strong quake off Guatemala is felt in Mexico City - http://t.co/fpjpvqES http://t.co/Y23hxGaF'),\n",
    "    ('Government', 'RT @CalgaryPolice: Check here to see what areas of Montgomery must be evacuated: http://t.co/0p1PSfn001 #yycflood'),\n",
    "    ('Outsiders', 'RT @willienelson: West has been in my backyard all my life.  My heart is praying for the community that we call home. #westtx'),\n",
    "    ('Eyewitness', '@IdilioMon: #coloradoflood ==&gt; Street view from my home this afternoon. Rain, rain, go away... http://t.co/H3FdI3A1NQ'),\n",
    "    ('NGOs', 'GLOBE SUBS: Donate to Red Cross now. Text RED &lt;amt&gt; to 2899. Denoms. in 5, 25, 50, 100, 300, 500 and 1000. #YolandaPH #ReliefPH'),\n",
    "    ('Not applicable', 'RT @joeshowradio: @joerogan The Bill of Rights was written for Dzhokar Tsarnaev: http://t.co/bmZUZRg4U4'),\n",
    "    ('Business', 'Hyundai, Mazda and Ford offering support to victims of Colorado flooding - Autoblog http://t.co/wPAIDzT2UV')\n",
    "]\n",
    "\n",
    "for (cl, text) in test_tweets:\n",
    "    result = tp.classify_tweet(text)\n",
    "\n",
    "    print(text)\n",
    "    print(cl, result, \"\\n\")\n",
    "    assert cl == result['class']\n",
    "    assert result['class_probability'] > 0.5"
   ]
  }
 ],
 "metadata": {
  "kernelspec": {
   "display_name": "kajo_semexp_core",
   "language": "python",
   "name": "kajo_semexp_core"
  },
  "language_info": {
   "codemirror_mode": {
    "name": "ipython",
    "version": 3
   },
   "file_extension": ".py",
   "mimetype": "text/x-python",
   "name": "python",
   "nbconvert_exporter": "python",
   "pygments_lexer": "ipython3",
   "version": "3.6.9"
  }
 },
 "nbformat": 4,
 "nbformat_minor": 2
}
