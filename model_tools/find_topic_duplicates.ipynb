{
 "cells": [
  {
   "cell_type": "markdown",
   "metadata": {},
   "source": [
    "# Find topics which are too similar\n",
    "https://gitlab.com/kajo-cross-proj/semantic-explorer/issues/20"
   ]
  },
  {
   "cell_type": "code",
   "execution_count": 6,
   "metadata": {},
   "outputs": [],
   "source": [
    "import spacy\n",
    "from tqdm import tqdm"
   ]
  },
  {
   "cell_type": "code",
   "execution_count": 31,
   "metadata": {},
   "outputs": [],
   "source": [
    "nlp = spacy.load(\"en_core_web_sm\")"
   ]
  },
  {
   "cell_type": "code",
   "execution_count": 2,
   "metadata": {},
   "outputs": [],
   "source": [
    "#get topics from file\n",
    "with open('/home/dzon/kajo/semantic-explorer/data/topic_list_v2.txt') as fp:\n",
    "    topics_file = fp.readlines()\n",
    "topics = []\n",
    "for topic in topics_file:\n",
    "    topic = topic.strip().lower()\n",
    "    if topic not in topics:\n",
    "        topics.append(topic)"
   ]
  },
  {
   "cell_type": "code",
   "execution_count": 8,
   "metadata": {},
   "outputs": [
    {
     "name": "stderr",
     "output_type": "stream",
     "text": [
      "\n",
      "  0%|          | 0/452 [00:00<?, ?it/s]\u001b[A\n",
      "  4%|▍         | 19/452 [00:00<00:02, 188.99it/s]\u001b[A\n",
      "  9%|▊         | 39/452 [00:00<00:02, 190.96it/s]\u001b[A\n",
      " 13%|█▎        | 59/452 [00:00<00:02, 193.33it/s]\u001b[A\n",
      " 18%|█▊        | 80/452 [00:00<00:01, 195.57it/s]\u001b[A\n",
      " 22%|██▏       | 100/452 [00:00<00:01, 195.62it/s]\u001b[A\n",
      " 27%|██▋       | 120/452 [00:00<00:01, 194.19it/s]\u001b[A\n",
      " 31%|███       | 140/452 [00:00<00:01, 193.78it/s]\u001b[A\n",
      " 35%|███▌      | 160/452 [00:00<00:01, 193.82it/s]\u001b[A\n",
      " 40%|███▉      | 180/452 [00:00<00:01, 193.51it/s]\u001b[A\n",
      " 44%|████▍     | 199/452 [00:01<00:01, 192.12it/s]\u001b[A\n",
      " 48%|████▊     | 218/452 [00:01<00:01, 191.14it/s]\u001b[A\n",
      " 53%|█████▎    | 238/452 [00:01<00:01, 191.43it/s]\u001b[A\n",
      " 57%|█████▋    | 257/452 [00:01<00:01, 188.83it/s]\u001b[A\n",
      " 61%|██████    | 276/452 [00:01<00:00, 184.96it/s]\u001b[A\n",
      " 65%|██████▌   | 295/452 [00:01<00:00, 184.64it/s]\u001b[A\n",
      " 69%|██████▉   | 314/452 [00:01<00:00, 184.74it/s]\u001b[A\n",
      " 74%|███████▎  | 333/452 [00:01<00:00, 184.94it/s]\u001b[A\n",
      " 78%|███████▊  | 353/452 [00:01<00:00, 186.69it/s]\u001b[A\n",
      " 82%|████████▏ | 372/452 [00:01<00:00, 185.84it/s]\u001b[A\n",
      " 87%|████████▋ | 391/452 [00:02<00:00, 183.86it/s]\u001b[A\n",
      " 91%|█████████ | 410/452 [00:02<00:00, 182.88it/s]\u001b[A\n",
      " 95%|█████████▍| 429/452 [00:02<00:00, 183.37it/s]\u001b[A\n",
      "100%|██████████| 452/452 [00:02<00:00, 188.50it/s]\u001b[A\n"
     ]
    }
   ],
   "source": [
    "#len(topics)\n",
    "docs = []\n",
    "for topic in tqdm(topics):\n",
    "    topic = \" \".join(topic.split(\"_\"))\n",
    "    doc = nlp(topic)\n",
    "    docs.append(doc)    "
   ]
  },
  {
   "cell_type": "code",
   "execution_count": 14,
   "metadata": {},
   "outputs": [
    {
     "name": "stderr",
     "output_type": "stream",
     "text": [
      "\n",
      "  0%|          | 0/452 [00:00<?, ?it/s]\u001b[A\n",
      " 12%|█▏        | 52/452 [00:00<00:00, 516.48it/s]\u001b[A\n",
      " 25%|██▍       | 112/452 [00:00<00:00, 538.61it/s]\u001b[A\n",
      " 41%|████      | 184/452 [00:00<00:00, 580.90it/s]\u001b[A\n",
      "100%|██████████| 452/452 [00:00<00:00, 960.39it/s]\u001b[A\n"
     ]
    }
   ],
   "source": [
    "topic_similarities = {}\n",
    "for i in tqdm(range(len(topics))):\n",
    "    for j in range(i+1,len(topics)):\n",
    "        doc1 = docs[i]\n",
    "        doc2 = docs[j]\n",
    "        similarity = doc1.similarity(doc2)\n",
    "        key = topics[i] + \";\" + topics[j]\n",
    "        topic_similarities[key] = similarity"
   ]
  },
  {
   "cell_type": "code",
   "execution_count": 21,
   "metadata": {},
   "outputs": [],
   "source": [
    "del nlp \n",
    "\n",
    "from gensim.models import Word2Vec\n",
    "import logging\n",
    "\n",
    "model=Word2Vec.load(\"/media/dzon/Data/Jiri-models/wv-sg1hs0.bin\")\n",
    "logging.basicConfig(format='%(asctime)s : %(levelname)s : %(message)s', level=logging.DEBUG)"
   ]
  },
  {
   "cell_type": "code",
   "execution_count": 22,
   "metadata": {},
   "outputs": [
    {
     "name": "stderr",
     "output_type": "stream",
     "text": [
      "2019-12-17 14:24:47,374 : INFO : precomputing L2-norms of word weight vectors\n"
     ]
    },
    {
     "name": "stdout",
     "output_type": "stream",
     "text": [
      "unemployed_young_people 7.991014659404755 - young_unemployed_people 7.841054856777191 : 1.0000000327444925\n",
      "population_ageing 7.525250434875488 - ageing_population 7.543236970901489 : 0.9999999506350851\n",
      "economic_and_social_development 7.053495347499847 - social_and_economic_development 7.002671301364899 : 0.999999950387975\n",
      "rural_development_programme 6.5490100383758545 - rural_development_programmes 6.739205420017242 : 0.9785405218808114\n",
      "smaller_firms 7.966216206550598 - larger_firms 8.06937038898468 : 0.9756025892342847\n",
      "smaller_companies 7.997024834156036 - larger_companies 8.179319143295288 : 0.9754484640760435\n",
      "smaller_enterprises 7.763204038143158 - larger_enterprises 7.806649267673492 : 0.9738667785351568\n",
      "agricultural_sector 6.8432533740997314 - agriculture_sector 6.2655810713768005 : 0.9660885693924195\n",
      "climate_change_impacts 6.990123152732849 - climate_impacts 6.379105627536774 : 0.9639826607949799\n",
      "land_use_change 6.725880682468414 - land_use_changes 6.885281324386597 : 0.9633675554507318\n",
      "marine_ecosystems 7.489174842834473 - marine_ecosystem 6.614387810230255 : 0.9624456702558655\n",
      "digital_technologies 7.269359827041626 - digital_technology 6.886517941951752 : 0.9618003035279264\n",
      "regional_policy 7.183918714523315 - regional_policies 6.981436908245087 : 0.9614510408208145\n",
      "broadband_access 7.070904314517975 - broadband_internet_access 6.912363052368164 : 0.9598795971758475\n",
      "business_models 6.808999717235565 - business_model 6.491822063922882 : 0.9567687634260372\n",
      "sufficient_funding 6.626737952232361 - adequate_funding 6.868897616863251 : 0.9546437787131331\n",
      "permanent_grassland 7.363446414470673 - permanent_grasslands 6.869313895702362 : 0.9540602234334833\n",
      "skill_level 7.006855726242065 - skill_levels 7.134294211864471 : 0.9527809428944897\n",
      "population_ageing 7.525250434875488 - aging_population 6.908363938331604 : 0.9526717631037522\n",
      "ageing_population 7.543236970901489 - aging_population 6.908363938331604 : 0.9526717631037522\n",
      "rural_community 5.984050273895264 - rural_communities 6.937389433383942 : 0.9521734274860236\n",
      "unemployed_young_people 7.991014659404755 - young_unemployed 7.8378786444664 : 0.9516662280352952\n",
      "young_unemployed_people 7.841054856777191 - young_unemployed 7.8378786444664 : 0.9516662280352952\n",
      "heat_waves 7.249730229377747 - heat_wave 6.282437026500702 : 0.9512476142793086\n",
      "climate_change 7.202183306217194 - climate_changes 7.158574461936951 : 0.9508833654317799\n",
      "upper_secondary_education 7.928363263607025 - lower_secondary_education 7.469788134098053 : 0.9507584029910118\n",
      "climate_change 7.202183306217194 - global_climate_change 6.5742921233177185 : 0.9506087441728174\n",
      "small_companies 8.098996222019196 - large_companies 8.237629473209381 : 0.9499996742783039\n",
      "small_farms 7.059483170509338 - large_farms 6.565058767795563 : 0.9492514302452446\n",
      "social_services 7.495588839054108 - social_service 6.423446536064148 : 0.9491027857610964\n",
      "small_firms 7.9935415387153625 - large_firms 8.084143340587616 : 0.9484051132465179\n",
      "ecosystem_services 7.082962870597839 - ecosystems_services 6.353761851787567 : 0.9479965084015772\n",
      "small_enterprises 7.306802332401276 - large_enterprises 7.752224802970886 : 0.9475906266665486\n",
      "climate_change 7.202183306217194 - climate_change_impacts 6.990123152732849 : 0.9470916984129764\n",
      "technological_advancements 6.890481889247894 - technological_innovations 7.211765885353088 : 0.9457183432800293\n",
      "business_models 6.808999717235565 - new_business_models 7.109036207199097 : 0.9451323506944426\n",
      "skill_levels 7.134294211864471 - skills_levels 6.7877243757247925 : 0.9449712603131081\n",
      "climatic_change 7.0493292808532715 - climatic_changes 7.055747032165527 : 0.9445544078371085\n",
      "lower_wages 7.0674067735672 - higher_wages 7.166918933391571 : 0.944230112776569\n",
      "educational_attainment 7.324788451194763 - education_attainment 6.566760540008545 : 0.9441065159933887\n",
      "transport_infrastructure 6.881291449069977 - transport_infrastructures 6.4458160400390625 : 0.9436923050705746\n",
      "rural_development_planning 4.634837567806244 - rural_development 6.351372718811035 : 0.943668318872116\n",
      "broadband_internet_access 6.912363052368164 - internet_access 6.893792510032654 : 0.9433299676580812\n",
      "ecosystem_services 7.082962870597839 - ecosystem_service 5.961414456367493 : 0.9426802020346792\n",
      "historical_and_cultural_heritage 6.064574360847473 - historical_heritage 6.553218126296997 : 0.9424854655862478\n",
      "rural_development_planning 4.634837567806244 - rural_planning 5.384386658668518 : 0.9423535219172676\n",
      "demographic_change 7.263157069683075 - demographic_changes 7.532810032367706 : 0.9421385851753928\n",
      "permanent_pasture 6.722711205482483 - permanent_pastures 6.839963614940643 : 0.9413470354540853\n",
      "job_opportunities 7.448785305023193 - new_job_opportunities 6.979652464389801 : 0.9412893011170981\n",
      "food_supply_chain 6.145919501781464 - food_chain 5.494450628757477 : 0.9411942409848327\n",
      "young_women 7.611279785633087 - young_men 7.211855709552765 : 0.9398345812059489\n"
     ]
    }
   ],
   "source": [
    "sorted_topic_sim = sorted(topic_similarities.items(),\n",
    "                                  key=lambda kv: kv[1],\n",
    "                                  reverse=True)\n",
    "for i,(topic, sim) in enumerate(sorted_topic_sim):\n",
    "    if i > 50:\n",
    "        break\n",
    "    topic1, topic2 = topic.split(';')\n",
    "    #topic1 = topics[0]\n",
    "    #topic2 = topics[1]\n",
    "    \n",
    "    similar1 = model.wv.similar_by_vector(topic1, topn=10)\n",
    "    sum1 = 0\n",
    "    for (subtopic, similarity) in similar1:\n",
    "        sum1 += similarity\n",
    "    \n",
    "    similar2 = model.wv.similar_by_vector(topic2, topn=10)\n",
    "    sum2 = 0\n",
    "    for (subtopic, similarity) in similar2:\n",
    "        sum2 += similarity    \n",
    "    print(\"{} {} - {} {} : {}\".format(topic1,sum1,topic2,sum2,sim))    "
   ]
  },
  {
   "cell_type": "code",
   "execution_count": 29,
   "metadata": {},
   "outputs": [
    {
     "name": "stdout",
     "output_type": "stream",
     "text": [
      "eu_rules - walloon_region : -0.04634189543896919\n",
      "unaccompanied_minors - green_farming : -0.005868138133988083\n",
      "older_men - walloon_region : -0.0034349741970526645\n",
      "eu_law - walloon_region : 0.0022434070638547997\n",
      "asylum_seekers - soil_compaction : 0.005308425697320514\n",
      "ict_technologies - bird_watching : 0.005495697887114966\n",
      "walloon_region - innovative_tools : 0.00942645398044343\n",
      "eu_regulations - walloon_region : 0.01023203976967139\n",
      "unaccompanied_minors - green_economy : 0.012383466801940739\n",
      "landscape_architecture - unaccompanied_minors : 0.016819875957150485\n",
      "asylum_seekers - organic_production : 0.017379057108756143\n",
      "computer_skills - walloon_region : 0.01767177676592963\n",
      "life_quality - walloon_region : 0.01813068536006767\n",
      "young_men - walloon_region : 0.019705303141284235\n",
      "digital_technology - unaccompanied_minors : 0.020506817726776507\n",
      "innovative_solutions - unaccompanied_minors : 0.02073874386667429\n",
      "basic_skills - walloon_region : 0.021790883920592877\n",
      "precision_farming - unaccompanied_minors : 0.021869292259109017\n",
      "innovative_solutions - walloon_region : 0.021877109439780322\n",
      "unaccompanied_minors - automotive_industry : 0.022015869045843607\n",
      "eu_legislation - walloon_region : 0.022570080297863476\n",
      "new_solutions - walloon_region : 0.024232511868792335\n",
      "social_care - walloon_region : 0.024247033746160183\n",
      "unaccompanied_minors - innovative_tools : 0.024743415211940786\n",
      "professional_skills - walloon_region : 0.026196596802887055\n",
      "new_solutions - unaccompanied_minors : 0.026397227724191463\n",
      "innovative_business_models - walloon_region : 0.026778534400843018\n",
      "new_business_models - walloon_region : 0.027094204303265725\n",
      "unaccompanied_minors - heat_wave : 0.028444853011777304\n",
      "unaccompanied_minors - flash_floods : 0.029916493528479457\n",
      "direct_sale - urban_agglomerations : 0.030023646419547273\n",
      "digital_skills - walloon_region : 0.030614754557306098\n",
      "social_service - walloon_region : 0.03062084759148727\n",
      "new_building - walloon_region : 0.0308861500079092\n",
      "public_good - walloon_region : 0.03165540341509504\n",
      "digital_technologies - unaccompanied_minors : 0.032823965978005555\n",
      "folk_art - soil_compaction : 0.03292590211528603\n",
      "eu_rules - riparian_vegetation : 0.03334049605137783\n",
      "it_skills - walloon_region : 0.033509511296075975\n",
      "walloon_region - birth_rate : 0.03387980470940746\n",
      "brain_drain - unaccompanied_minors : 0.03438925492501\n",
      "young_europeans - regulatory_requirements : 0.03446405272253502\n",
      "unaccompanied_minors - soil_compaction : 0.03492665593926117\n",
      "credit_financing - walloon_region : 0.03748963457595472\n",
      "new_methods - walloon_region : 0.03822177073329269\n",
      "food_price - walloon_region : 0.0388366907280328\n",
      "social_supports - walloon_region : 0.03886315310668133\n",
      "unaccompanied_minors - low_carbon : 0.038869659979399326\n",
      "business_models - walloon_region : 0.03890833938287171\n",
      "existing_eu_legislation - walloon_region : 0.04003155076486013\n",
      "internet_access - walloon_region : 0.041343162710014335\n",
      "\n",
      "unemployed_young_people - young_unemployed_people : 1.0000000327444925\n",
      "population_ageing - ageing_population : 0.9999999506350851\n",
      "economic_and_social_development - social_and_economic_development : 0.999999950387975\n",
      "rural_development_programme - rural_development_programmes : 0.9785405218808114\n",
      "smaller_firms - larger_firms : 0.9756025892342847\n",
      "smaller_companies - larger_companies : 0.9754484640760435\n",
      "smaller_enterprises - larger_enterprises : 0.9738667785351568\n",
      "agricultural_sector - agriculture_sector : 0.9660885693924195\n",
      "climate_change_impacts - climate_impacts : 0.9639826607949799\n",
      "land_use_change - land_use_changes : 0.9633675554507318\n",
      "marine_ecosystems - marine_ecosystem : 0.9624456702558655\n",
      "digital_technologies - digital_technology : 0.9618003035279264\n",
      "regional_policy - regional_policies : 0.9614510408208145\n",
      "broadband_access - broadband_internet_access : 0.9598795971758475\n",
      "business_models - business_model : 0.9567687634260372\n",
      "sufficient_funding - adequate_funding : 0.9546437787131331\n",
      "permanent_grassland - permanent_grasslands : 0.9540602234334833\n",
      "skill_level - skill_levels : 0.9527809428944897\n",
      "population_ageing - aging_population : 0.9526717631037522\n",
      "ageing_population - aging_population : 0.9526717631037522\n",
      "rural_community - rural_communities : 0.9521734274860236\n",
      "unemployed_young_people - young_unemployed : 0.9516662280352952\n",
      "young_unemployed_people - young_unemployed : 0.9516662280352952\n",
      "heat_waves - heat_wave : 0.9512476142793086\n",
      "climate_change - climate_changes : 0.9508833654317799\n",
      "upper_secondary_education - lower_secondary_education : 0.9507584029910118\n",
      "climate_change - global_climate_change : 0.9506087441728174\n",
      "small_companies - large_companies : 0.9499996742783039\n",
      "small_farms - large_farms : 0.9492514302452446\n",
      "social_services - social_service : 0.9491027857610964\n",
      "small_firms - large_firms : 0.9484051132465179\n",
      "ecosystem_services - ecosystems_services : 0.9479965084015772\n",
      "small_enterprises - large_enterprises : 0.9475906266665486\n",
      "climate_change - climate_change_impacts : 0.9470916984129764\n",
      "technological_advancements - technological_innovations : 0.9457183432800293\n",
      "business_models - new_business_models : 0.9451323506944426\n",
      "skill_levels - skills_levels : 0.9449712603131081\n",
      "climatic_change - climatic_changes : 0.9445544078371085\n",
      "lower_wages - higher_wages : 0.944230112776569\n",
      "educational_attainment - education_attainment : 0.9441065159933887\n",
      "transport_infrastructure - transport_infrastructures : 0.9436923050705746\n",
      "rural_development_planning - rural_development : 0.943668318872116\n",
      "broadband_internet_access - internet_access : 0.9433299676580812\n",
      "ecosystem_services - ecosystem_service : 0.9426802020346792\n",
      "historical_and_cultural_heritage - historical_heritage : 0.9424854655862478\n",
      "rural_development_planning - rural_planning : 0.9423535219172676\n",
      "demographic_change - demographic_changes : 0.9421385851753928\n",
      "permanent_pasture - permanent_pastures : 0.9413470354540853\n",
      "job_opportunities - new_job_opportunities : 0.9412893011170981\n",
      "food_supply_chain - food_chain : 0.9411942409848327\n",
      "young_women - young_men : 0.9398345812059489\n"
     ]
    }
   ],
   "source": [
    "sorted_topic_sim_reverse = sorted(topic_similarities.items(),\n",
    "                                  key=lambda kv: kv[1],\n",
    "                                  reverse=False)\n",
    "for i,(topic, sim) in enumerate(sorted_topic_sim_reverse):\n",
    "    if i > 50:\n",
    "        break\n",
    "    topic1, topic2 = topic.split(';')\n",
    "    \n",
    "    print(\"{} - {} : {}\".format(topic1,topic2,sim))  \n",
    "    \n",
    "print()\n",
    "    \n",
    "for i,(topic, sim) in enumerate(sorted_topic_sim):\n",
    "    if i > 50:\n",
    "        break\n",
    "    topic1, topic2 = topic.split(';')\n",
    "    \n",
    "    print(\"{} - {} : {}\".format(topic1,topic2,sim))  "
   ]
  }
 ],
 "metadata": {
  "kernelspec": {
   "display_name": "local-venv",
   "language": "python",
   "name": "local-venv"
  },
  "language_info": {
   "codemirror_mode": {
    "name": "ipython",
    "version": 3
   },
   "file_extension": ".py",
   "mimetype": "text/x-python",
   "name": "python",
   "nbconvert_exporter": "python",
   "pygments_lexer": "ipython3",
   "version": "3.6.9"
  }
 },
 "nbformat": 4,
 "nbformat_minor": 2
}
