{
 "cells": [
  {
   "cell_type": "markdown",
   "metadata": {},
   "source": [
    "# Slovak spaCy model test\n",
    "\n",
    "installing the model: `pip install sk_sk_experimental_no_vectors-0.1a0.tar.gz` "
   ]
  },
  {
   "cell_type": "code",
   "execution_count": 1,
   "metadata": {},
   "outputs": [],
   "source": [
    "import spacy\n",
    "nlp = spacy.load(\"sk_sk_experimental_no_vectors\")"
   ]
  },
  {
   "cell_type": "code",
   "execution_count": 2,
   "metadata": {},
   "outputs": [],
   "source": [
    "# https://sk.wikipedia.org/wiki/Vo%C4%BEby_do_N%C3%A1rodnej_rady_Slovenskej_republiky_v_roku_2020\n",
    "text_sk = \"Predseda SNS a NR SR Andrej Danko inicioval v lete 2019 diskusiu o predĺžení moratória na zverejňovanie predvolebných prieskumov: „Dejú sa tu podvody s prieskumami. Každý prieskum nemá zadávateľa, neviete, kto to platí. Čo prieskum, to iné číslo, a stáva sa z toho manipulatívny prostriedok“. Nápad podporil aj predseda SMER-SD Robert Fico s tým, že je „manipulácia s prieskumami verejnej mienky očividná“ a pokojne by moratórium predĺžil aj na 60 dní. 28. októbra 2019 následne poslanci strán SMER-SD, SNS, ĽSNS a poslanec Mosta-Híd Elemér Jakab presadili zákaz zverejňovania predvolebných prieskumov v období 50 dní pred voľbami. Novela schválená 124 dní pred voľbami tak v prípade nadobudnutia účinnosti zmení dobu moratória z doterajších 14 dní na 50. Dlhšie moratóriá majú len Kamerun s 90 dňami a Tunisko so 150\""
   ]
  },
  {
   "cell_type": "code",
   "execution_count": 3,
   "metadata": {},
   "outputs": [
    {
     "data": {
      "text/plain": [
       "16410648"
      ]
     },
     "execution_count": 3,
     "metadata": {},
     "output_type": "execute_result"
    }
   ],
   "source": [
    "from pympler import asizeof\n",
    "asizeof.asizeof(nlp)"
   ]
  },
  {
   "cell_type": "code",
   "execution_count": 4,
   "metadata": {},
   "outputs": [],
   "source": [
    "doc = nlp(text_sk)"
   ]
  },
  {
   "cell_type": "code",
   "execution_count": 5,
   "metadata": {},
   "outputs": [
    {
     "name": "stdout",
     "output_type": "stream",
     "text": [
      "Predseda Predseda - X - SSms1 - nsubj - Xxxxx - True - False\n",
      "SNS SNS - X - W - nmod - XXX - True - False\n",
      "a a - X - O - cc - x - True - True\n",
      "NR NR - X - W - conj - XX - True - False\n",
      "SR SR - X - W - nmod - XX - True - False\n",
      "Andrej Andrej - X - SSms2:r - nmod - Xxxxx - True - False\n",
      "Danko Danko - X - SSms2:r - nsubj - Xxxxx - True - False\n",
      "inicioval inicioval - X - VLescm+ - ROOT - xxxx - True - False\n",
      "v v - X - Eu6 - case - x - True - True\n",
      "lete lete - X - SSns6 - obl - xxxx - True - False\n",
      "2019 2019 - X - 0 - nummod - dddd - False - False\n",
      "diskusiu diskusiu - X - VLdscf+ - obj - xxxx - True - False\n",
      "o o - X - Eu6 - case - x - True - True\n",
      "predĺžení predĺžení - X - SSns6 - nmod - xxxx - True - False\n",
      "moratória moratória - X - SSns2 - nmod - xxxx - True - False\n",
      "na na - X - Eu4 - case - xx - True - True\n",
      "zverejňovanie zverejňovanie - X - SSns4 - nmod - xxxx - True - False\n",
      "predvolebných predvolebných - X - AAip2x - amod - xxxx - True - False\n",
      "prieskumov prieskumov - X - SSip2 - nmod - xxxx - True - False\n",
      ": : - X - Z - punct - : - False - False\n",
      "„ „ - X - Z - punct - „ - False - False\n",
      "Dejú Dejú - X - VMdsb+ - nsubj - Xxxx - True - False\n",
      "sa sa - X - R - expl:pv - xx - True - True\n",
      "tu tu - X - PD - advmod - xx - True - True\n",
      "podvody podvody - X - SSfp1 - nsubj - xxxx - True - False\n",
      "s s - X - Eu7 - case - x - True - True\n",
      "prieskumami prieskumami - X - SSfp7 - nmod - xxxx - True - False\n",
      ". . - X - Z - punct - . - False - False\n",
      "Každý Každý - X - PAis1 - det - Xxxxx - True - True\n",
      "prieskum prieskum - X - SSis1 - nsubj - xxxx - True - False\n",
      "nemá nemá - X - VKesc- - conj - xxxx - True - False\n",
      "zadávateľa zadávateľa - X - SSms4 - obj - xxxx - True - False\n",
      ", , - X - Z - punct - , - False - False\n",
      "neviete neviete - X - VKepb- - conj - xxxx - True - False\n",
      ", , - X - Z - punct - , - False - False\n",
      "kto kto - X - PFms1 - nsubj - xxx - True - True\n",
      "to to - X - PFns1 - obj - xx - True - True\n",
      "platí platí - X - VKesc+ - ccomp - xxxx - True - False\n",
      ". . - X - Z - punct - . - False - False\n",
      "Čo Čo - X - PFns4 - nsubj - Xx - True - True\n",
      "prieskum prieskum - X - SSis2 - dep - xxxx - True - False\n",
      ", , - X - ZIP - punct - , - False - False\n",
      "to to - X - PFns1 - nsubj - xx - True - True\n",
      "iné iné - X - PAns1 - det - xxx - True - True\n",
      "číslo číslo - X - SSns1 - obl:arg - xxxx - True - False\n",
      ", , - X - ZIP - punct - , - False - False\n",
      "a a - X - O - cc - x - True - True\n",
      "stáva stáva - X - VKesc+ - conj - xxxx - True - False\n",
      "sa sa - X - R - expl:pv - xx - True - True\n",
      "z z - X - Eu2 - case - x - True - True\n",
      "toho toho - X - PFns2 - det - xxxx - True - True\n",
      "manipulatívny manipulatívny - X - AAis1x - amod - xxxx - True - False\n",
      "prostriedok prostriedok - X - SSis1 - obl:arg - xxxx - True - False\n",
      "“ “ - X - Z - punct - “ - False - False\n",
      ". . - X - Z - punct - . - False - False\n",
      "Nápad Nápad - X - SSis1 - dep - Xxxxx - True - False\n",
      "podporil podporil - X - VLdscm+ - conj - xxxx - True - False\n",
      "aj aj - X - T - advmod:emph - xx - True - True\n",
      "predseda predseda - X - SSms1 - obj - xxxx - True - False\n",
      "SMER SMER - X - SSis2 - nmod - XXXX - True - False\n",
      "- - - X - ZIP - punct - - - False - False\n",
      "SD SD - X - W - conj - XX - True - False\n",
      "Robert Robert - X - SSis1:r - nmod - Xxxxx - True - False\n",
      "Fico Fico - X - SSms1:r - nmod - Xxxx - True - False\n",
      "s s - X - Eu7 - case - x - True - True\n",
      "tým tým - X - PFns7 - nmod - xxx - True - True\n",
      ", , - X - ZIP - punct - , - False - False\n",
      "že že - X - O - mark - xx - True - True\n",
      "je je - X - VKesc+ - aux:pass - xx - True - True\n",
      "„ „ - X - Z - punct - „ - False - False\n",
      "manipulácia manipulácia - X - SSfs1 - nsubj - xxxx - True - False\n",
      "s s - X - Eu7 - case - x - True - True\n",
      "prieskumami prieskumami - X - SSfp7 - nmod - xxxx - True - False\n",
      "verejnej verejnej - X - AAfs2x - amod - xxxx - True - False\n",
      "mienky mienky - X - SSfs2 - nmod - xxxx - True - False\n",
      "očividná očividná - X - SSfs4 - amod - xxxx - True - False\n",
      "“ “ - X - Z - punct - “ - False - False\n",
      "a a - X - O - cc - x - True - True\n",
      "pokojne pokojne - X - Dx - advmod - xxxx - True - False\n",
      "by by - X - Y - aux - xx - True - True\n",
      "moratórium moratórium - X - SSns4 - nsubj - xxxx - True - False\n",
      "predĺžil predĺžil - X - VLdscm+ - conj - xxxx - True - False\n",
      "aj aj - X - T - advmod:emph - xx - True - True\n",
      "na na - X - Eu4 - case - xx - True - True\n",
      "60 60 - X - 0 - nummod - dd - False - False\n",
      "dní dní - X - SSip2 - obl - xxx - True - False\n",
      ". . - X - Z - punct - . - False - False\n",
      "28 28 - X - 0 - nmod - dd - False - False\n",
      ". . - X - Z - punct - . - False - False\n",
      "októbra októbra - X - SSis2 - obl - xxxx - True - False\n",
      "2019 2019 - X - 0 - nummod - dddd - False - False\n",
      "následne následne - X - Dx - amod - xxxx - True - False\n",
      "poslanci poslanci - X - SSmp1 - obj - xxxx - True - False\n",
      "strán strán - X - VIe+ - nmod - xxxx - True - False\n",
      "SMER SMER - X - SSfp3 - nmod - XXXX - True - False\n",
      "- - - X - ZIP - punct - - - False - False\n",
      "SD SD - X - W - conj - XX - True - False\n",
      ", , - X - ZIP - punct - , - False - False\n",
      "SNS SNS - X - W - conj - XXX - True - False\n",
      ", , - X - ZIP - punct - , - False - False\n",
      "ĽSNS ĽSNS - X - % - conj - XXXX - True - False\n",
      "a a - X - O - cc - x - True - True\n",
      "poslanec poslanec - X - VLdscm+ - conj - xxxx - True - False\n",
      "Mosta Mosta - X - SSms1 - nmod - Xxxxx - True - False\n",
      "- - - X - Z - punct - - - False - False\n",
      "Híd Híd - X - SSms1:r - nmod - Xxx - True - False\n",
      "Elemér Elemér - X - SSfs1:r - nmod - Xxxxx - True - False\n",
      "Jakab Jakab - X - SSmp1:r - nsubj - Xxxxx - True - False\n",
      "presadili presadili - X - VLdpcm+ - conj - xxxx - True - False\n",
      "zákaz zákaz - X - SSis4 - obj - xxxx - True - False\n",
      "zverejňovania zverejňovania - X - SSns2 - nmod - xxxx - True - False\n",
      "predvolebných predvolebných - X - AAip2x - amod - xxxx - True - False\n",
      "prieskumov prieskumov - X - SSip2 - nmod - xxxx - True - False\n",
      "v v - X - Eu6 - case - x - True - True\n",
      "období období - X - SSns6 - nmod - xxxx - True - False\n",
      "50 50 - X - 0 - nummod - dd - False - False\n",
      "dní dní - X - SSip2 - nmod - xxx - True - False\n",
      "pred pred - X - Eu7 - case - xxxx - True - True\n",
      "voľbami voľbami - X - SSfp7 - nmod - xxxx - True - False\n",
      ". . - X - Z - punct - . - False - False\n",
      "Novela Novela - X - VLdscf- - punct - Xxxxx - True - False\n",
      "schválená schválená - X - Gtfs1x - obl - xxxx - True - False\n",
      "124 124 - X - 0 - nummod - ddd - False - False\n",
      "dní dní - X - SSip2 - nmod - xxx - True - False\n",
      "pred pred - X - Eu7 - case - xxxx - True - True\n",
      "voľbami voľbami - X - SSfp7 - obl - xxxx - True - False\n",
      "tak tak - X - T - advmod - xxx - True - True\n",
      "v v - X - Eu6 - case - x - True - True\n",
      "prípade prípade - X - SSis6 - obl - xxxx - True - False\n",
      "nadobudnutia nadobudnutia - X - SSns2 - nmod - xxxx - True - False\n",
      "účinnosti účinnosti - X - SSfs2 - nmod - xxxx - True - False\n",
      "zmení zmení - X - VKdsc+ - acl - xxxx - True - False\n",
      "dobu dobu - X - SSfs1 - amod - xxxx - True - False\n",
      "moratória moratória - X - SSns2 - obj - xxxx - True - False\n",
      "z z - X - Eu2 - case - x - True - True\n",
      "doterajších doterajších - X - AAip2x - amod - xxxx - True - False\n",
      "14 14 - X - 0 - nummod - dd - False - False\n",
      "dní dní - X - SSip2 - nmod - xxx - True - False\n",
      "na na - X - Eu4 - case - xx - True - True\n",
      "50 50 - X - 0 - nummod - dd - False - False\n",
      ". . - X - Z - punct - . - False - False\n",
      "Dlhšie Dlhšie - X - Dy - obl - Xxxxx - True - False\n",
      "moratóriá moratóriá - X - Gtmp4x - obj - xxxx - True - False\n",
      "majú majú - X - VKepc+ - xcomp - xxxx - True - False\n",
      "len len - X - T - advmod:emph - xxx - True - True\n",
      "Kamerun Kamerun - X - SSfs4:r - obj - Xxxxx - True - False\n",
      "s s - X - Eu7 - case - x - True - True\n",
      "90 90 - X - 0 - nummod - dd - False - False\n",
      "dňami dňami - X - SSip7 - nmod - xxxx - True - False\n",
      "a a - X - O - cc - x - True - True\n",
      "Tunisko Tunisko - X - SSns1:r - conj - Xxxxx - True - False\n",
      "so so - X - Ev7 - case - xx - True - True\n",
      "150 150 - X - 0 - nummod - ddd - False - False\n"
     ]
    }
   ],
   "source": [
    "for token in doc:\n",
    "    print(token.text, token.lemma_, \"-\", token.pos_, \"-\",token.tag_, \"-\",token.dep_,\"-\",\n",
    "            token.shape_, \"-\",token.is_alpha, \"-\",token.is_stop)"
   ]
  },
  {
   "cell_type": "code",
   "execution_count": 6,
   "metadata": {},
   "outputs": [
    {
     "name": "stdout",
     "output_type": "stream",
     "text": [
      "SNS 9 12 ORG\n",
      "SMER 320 324 ORG\n",
      "Robert Fico 328 339 PER\n",
      "SMER-SD 494 501 ORG\n",
      "SNS 503 506 ORG\n",
      "Kamerun 782 789 LOC\n",
      "Tunisko 803 810 LOC\n"
     ]
    }
   ],
   "source": [
    "for ent in doc.ents:\n",
    "    print(ent.text, ent.start_char, ent.end_char, ent.label_)"
   ]
  },
  {
   "cell_type": "code",
   "execution_count": 7,
   "metadata": {},
   "outputs": [
    {
     "data": {
      "text/html": [
       "<div class=\"entities\" style=\"line-height: 2.5; direction: ltr\">Predseda \n",
       "<mark class=\"entity\" style=\"background: #7aecec; padding: 0.45em 0.6em; margin: 0 0.25em; line-height: 1; border-radius: 0.35em;\">\n",
       "    SNS\n",
       "    <span style=\"font-size: 0.8em; font-weight: bold; line-height: 1; border-radius: 0.35em; text-transform: uppercase; vertical-align: middle; margin-left: 0.5rem\">ORG</span>\n",
       "</mark>\n",
       " a NR SR Andrej Danko inicioval v lete 2019 diskusiu o predĺžení moratória na zverejňovanie predvolebných prieskumov: „Dejú sa tu podvody s prieskumami. Každý prieskum nemá zadávateľa, neviete, kto to platí. Čo prieskum, to iné číslo, a stáva sa z toho manipulatívny prostriedok“. Nápad podporil aj predseda \n",
       "<mark class=\"entity\" style=\"background: #7aecec; padding: 0.45em 0.6em; margin: 0 0.25em; line-height: 1; border-radius: 0.35em;\">\n",
       "    SMER\n",
       "    <span style=\"font-size: 0.8em; font-weight: bold; line-height: 1; border-radius: 0.35em; text-transform: uppercase; vertical-align: middle; margin-left: 0.5rem\">ORG</span>\n",
       "</mark>\n",
       "-SD \n",
       "<mark class=\"entity\" style=\"background: #ddd; padding: 0.45em 0.6em; margin: 0 0.25em; line-height: 1; border-radius: 0.35em;\">\n",
       "    Robert Fico\n",
       "    <span style=\"font-size: 0.8em; font-weight: bold; line-height: 1; border-radius: 0.35em; text-transform: uppercase; vertical-align: middle; margin-left: 0.5rem\">PER</span>\n",
       "</mark>\n",
       " s tým, že je „manipulácia s prieskumami verejnej mienky očividná“ a pokojne by moratórium predĺžil aj na 60 dní. 28. októbra 2019 následne poslanci strán \n",
       "<mark class=\"entity\" style=\"background: #7aecec; padding: 0.45em 0.6em; margin: 0 0.25em; line-height: 1; border-radius: 0.35em;\">\n",
       "    SMER-SD\n",
       "    <span style=\"font-size: 0.8em; font-weight: bold; line-height: 1; border-radius: 0.35em; text-transform: uppercase; vertical-align: middle; margin-left: 0.5rem\">ORG</span>\n",
       "</mark>\n",
       ", \n",
       "<mark class=\"entity\" style=\"background: #7aecec; padding: 0.45em 0.6em; margin: 0 0.25em; line-height: 1; border-radius: 0.35em;\">\n",
       "    SNS\n",
       "    <span style=\"font-size: 0.8em; font-weight: bold; line-height: 1; border-radius: 0.35em; text-transform: uppercase; vertical-align: middle; margin-left: 0.5rem\">ORG</span>\n",
       "</mark>\n",
       ", ĽSNS a poslanec Mosta-Híd Elemér Jakab presadili zákaz zverejňovania predvolebných prieskumov v období 50 dní pred voľbami. Novela schválená 124 dní pred voľbami tak v prípade nadobudnutia účinnosti zmení dobu moratória z doterajších 14 dní na 50. Dlhšie moratóriá majú len \n",
       "<mark class=\"entity\" style=\"background: #ff9561; padding: 0.45em 0.6em; margin: 0 0.25em; line-height: 1; border-radius: 0.35em;\">\n",
       "    Kamerun\n",
       "    <span style=\"font-size: 0.8em; font-weight: bold; line-height: 1; border-radius: 0.35em; text-transform: uppercase; vertical-align: middle; margin-left: 0.5rem\">LOC</span>\n",
       "</mark>\n",
       " s 90 dňami a \n",
       "<mark class=\"entity\" style=\"background: #ff9561; padding: 0.45em 0.6em; margin: 0 0.25em; line-height: 1; border-radius: 0.35em;\">\n",
       "    Tunisko\n",
       "    <span style=\"font-size: 0.8em; font-weight: bold; line-height: 1; border-radius: 0.35em; text-transform: uppercase; vertical-align: middle; margin-left: 0.5rem\">LOC</span>\n",
       "</mark>\n",
       " so 150</div>"
      ],
      "text/plain": [
       "<IPython.core.display.HTML object>"
      ]
     },
     "metadata": {},
     "output_type": "display_data"
    }
   ],
   "source": [
    "spacy.displacy.render(doc, style='ent')"
   ]
  },
  {
   "cell_type": "code",
   "execution_count": 9,
   "metadata": {},
   "outputs": [
    {
     "data": {
      "text/html": [
       "<div class=\"entities\" style=\"line-height: 2.5; direction: ltr\">\n",
       "<mark class=\"entity\" style=\"background: #7aecec; padding: 0.45em 0.6em; margin: 0 0.25em; line-height: 1; border-radius: 0.35em;\">\n",
       "    Predseda SNS\n",
       "    <span style=\"font-size: 0.8em; font-weight: bold; line-height: 1; border-radius: 0.35em; text-transform: uppercase; vertical-align: middle; margin-left: 0.5rem\">ORG</span>\n",
       "</mark>\n",
       " a \n",
       "<mark class=\"entity\" style=\"background: #7aecec; padding: 0.45em 0.6em; margin: 0 0.25em; line-height: 1; border-radius: 0.35em;\">\n",
       "    NR SR\n",
       "    <span style=\"font-size: 0.8em; font-weight: bold; line-height: 1; border-radius: 0.35em; text-transform: uppercase; vertical-align: middle; margin-left: 0.5rem\">ORG</span>\n",
       "</mark>\n",
       " Andrej Danko inicioval v lete 2019 diskusiu o predĺžení moratória na zverejňovanie predvolebných prieskumov: „Dejú sa tu podvody s prieskumami. Každý prieskum nemá zadávateľa, neviete, kto to platí. Čo prieskum, to iné číslo, a stáva sa z toho manipulatívny prostriedok“. Nápad podporil aj predseda \n",
       "<mark class=\"entity\" style=\"background: #7aecec; padding: 0.45em 0.6em; margin: 0 0.25em; line-height: 1; border-radius: 0.35em;\">\n",
       "    SMER\n",
       "    <span style=\"font-size: 0.8em; font-weight: bold; line-height: 1; border-radius: 0.35em; text-transform: uppercase; vertical-align: middle; margin-left: 0.5rem\">ORG</span>\n",
       "</mark>\n",
       "-\n",
       "<mark class=\"entity\" style=\"background: #7aecec; padding: 0.45em 0.6em; margin: 0 0.25em; line-height: 1; border-radius: 0.35em;\">\n",
       "    SD\n",
       "    <span style=\"font-size: 0.8em; font-weight: bold; line-height: 1; border-radius: 0.35em; text-transform: uppercase; vertical-align: middle; margin-left: 0.5rem\">ORG</span>\n",
       "</mark>\n",
       " \n",
       "<mark class=\"entity\" style=\"background: #ddd; padding: 0.45em 0.6em; margin: 0 0.25em; line-height: 1; border-radius: 0.35em;\">\n",
       "    Robert Fico\n",
       "    <span style=\"font-size: 0.8em; font-weight: bold; line-height: 1; border-radius: 0.35em; text-transform: uppercase; vertical-align: middle; margin-left: 0.5rem\">PER</span>\n",
       "</mark>\n",
       " s tým, že je „manipulácia s prieskumami verejnej mienky očividná\n",
       "<mark class=\"entity\" style=\"background: #ddd; padding: 0.45em 0.6em; margin: 0 0.25em; line-height: 1; border-radius: 0.35em;\">\n",
       "    “\n",
       "    <span style=\"font-size: 0.8em; font-weight: bold; line-height: 1; border-radius: 0.35em; text-transform: uppercase; vertical-align: middle; margin-left: 0.5rem\">PER</span>\n",
       "</mark>\n",
       " a pokojne by moratórium predĺžil aj na 60 dní. 28. októbra 2019 následne poslanci strán \n",
       "<mark class=\"entity\" style=\"background: #7aecec; padding: 0.45em 0.6em; margin: 0 0.25em; line-height: 1; border-radius: 0.35em;\">\n",
       "    SMER\n",
       "    <span style=\"font-size: 0.8em; font-weight: bold; line-height: 1; border-radius: 0.35em; text-transform: uppercase; vertical-align: middle; margin-left: 0.5rem\">ORG</span>\n",
       "</mark>\n",
       "-\n",
       "<mark class=\"entity\" style=\"background: #7aecec; padding: 0.45em 0.6em; margin: 0 0.25em; line-height: 1; border-radius: 0.35em;\">\n",
       "    SD\n",
       "    <span style=\"font-size: 0.8em; font-weight: bold; line-height: 1; border-radius: 0.35em; text-transform: uppercase; vertical-align: middle; margin-left: 0.5rem\">ORG</span>\n",
       "</mark>\n",
       ", \n",
       "<mark class=\"entity\" style=\"background: #7aecec; padding: 0.45em 0.6em; margin: 0 0.25em; line-height: 1; border-radius: 0.35em;\">\n",
       "    SNS\n",
       "    <span style=\"font-size: 0.8em; font-weight: bold; line-height: 1; border-radius: 0.35em; text-transform: uppercase; vertical-align: middle; margin-left: 0.5rem\">ORG</span>\n",
       "</mark>\n",
       ", \n",
       "<mark class=\"entity\" style=\"background: #7aecec; padding: 0.45em 0.6em; margin: 0 0.25em; line-height: 1; border-radius: 0.35em;\">\n",
       "    ĽSNS\n",
       "    <span style=\"font-size: 0.8em; font-weight: bold; line-height: 1; border-radius: 0.35em; text-transform: uppercase; vertical-align: middle; margin-left: 0.5rem\">ORG</span>\n",
       "</mark>\n",
       " a poslanec \n",
       "<mark class=\"entity\" style=\"background: #ddd; padding: 0.45em 0.6em; margin: 0 0.25em; line-height: 1; border-radius: 0.35em;\">\n",
       "    Mosta\n",
       "    <span style=\"font-size: 0.8em; font-weight: bold; line-height: 1; border-radius: 0.35em; text-transform: uppercase; vertical-align: middle; margin-left: 0.5rem\">PER</span>\n",
       "</mark>\n",
       "-\n",
       "<mark class=\"entity\" style=\"background: #ddd; padding: 0.45em 0.6em; margin: 0 0.25em; line-height: 1; border-radius: 0.35em;\">\n",
       "    Híd Elemér Jakab\n",
       "    <span style=\"font-size: 0.8em; font-weight: bold; line-height: 1; border-radius: 0.35em; text-transform: uppercase; vertical-align: middle; margin-left: 0.5rem\">PER</span>\n",
       "</mark>\n",
       " presadili zákaz zverejňovania predvolebných prieskumov v období 50 dní pred voľbami. Novela schválená 124 dní pred voľbami tak v prípade nadobudnutia účinnosti zmení dobu moratória z doterajších 14 dní na 50. Dlhšie moratóriá majú len \n",
       "<mark class=\"entity\" style=\"background: #ff9561; padding: 0.45em 0.6em; margin: 0 0.25em; line-height: 1; border-radius: 0.35em;\">\n",
       "    Kamerun\n",
       "    <span style=\"font-size: 0.8em; font-weight: bold; line-height: 1; border-radius: 0.35em; text-transform: uppercase; vertical-align: middle; margin-left: 0.5rem\">LOC</span>\n",
       "</mark>\n",
       " s 90 dňami a \n",
       "<mark class=\"entity\" style=\"background: #ff9561; padding: 0.45em 0.6em; margin: 0 0.25em; line-height: 1; border-radius: 0.35em;\">\n",
       "    Tunisko\n",
       "    <span style=\"font-size: 0.8em; font-weight: bold; line-height: 1; border-radius: 0.35em; text-transform: uppercase; vertical-align: middle; margin-left: 0.5rem\">LOC</span>\n",
       "</mark>\n",
       " so 150</div>"
      ],
      "text/plain": [
       "<IPython.core.display.HTML object>"
      ]
     },
     "metadata": {},
     "output_type": "display_data"
    }
   ],
   "source": [
    "nlp_xx = spacy.load(\"xx_ent_wiki_sm\")\n",
    "doc_xx = nlp_xx(text_sk)\n",
    "spacy.displacy.render(doc_xx, style='ent')"
   ]
  }
 ],
 "metadata": {
  "kernelspec": {
   "display_name": "local-venv",
   "language": "python",
   "name": "local-venv"
  },
  "language_info": {
   "codemirror_mode": {
    "name": "ipython",
    "version": 3
   },
   "file_extension": ".py",
   "mimetype": "text/x-python",
   "name": "python",
   "nbconvert_exporter": "python",
   "pygments_lexer": "ipython3",
   "version": "3.6.9"
  }
 },
 "nbformat": 4,
 "nbformat_minor": 2
}
