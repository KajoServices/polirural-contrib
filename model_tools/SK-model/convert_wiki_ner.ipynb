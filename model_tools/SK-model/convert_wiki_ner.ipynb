{
 "cells": [
  {
   "cell_type": "markdown",
   "metadata": {},
   "source": [
    "# Convert polyglot NER data to IOB format for spaCy training\n",
    "* split to training and dev set"
   ]
  },
  {
   "cell_type": "code",
   "execution_count": 14,
   "metadata": {},
   "outputs": [
    {
     "name": "stdout",
     "output_type": "stream",
     "text": [
      "9014161\n",
      "total samples:  8514026\n",
      "total tags:  353614\n",
      "total sents - perc:  0.04153311253688913\n",
      "sents_with_tag:  137881\n",
      "sents_without_tag:  362254\n",
      "sents_with_tags - perc:  0.2756875643576234\n",
      "train:  8300004\n",
      "dev:  714157\n"
     ]
    }
   ],
   "source": [
    "lines = []\n",
    "train = []\n",
    "dev = []\n",
    "max_train = 8300000\n",
    "max_dev = 800000\n",
    "processing_train = True\n",
    "sents_with_tag = 0\n",
    "sents_without_tag = 0\n",
    "was_tag = False\n",
    "total_tags = 0\n",
    "total_samples = 0\n",
    "\n",
    "with open('/mnt/data/data/emnlp_datasets/acl_datasets/sk/data/sk_wiki.conll', 'rt', encoding='utf8') as f:\n",
    "    temp = f.readlines()\n",
    "    print(len(temp))\n",
    "    prev_t = \"O\"\n",
    "    for i,line in enumerate(temp):\n",
    "        if line.strip() == \"\":\n",
    "            prev_t = \"O\"\n",
    "            lines.append(\"\")\n",
    "            if i > max_train:\n",
    "                processing_train = False\n",
    "            if i > max_train + max_dev:\n",
    "                break\n",
    "            if processing_train:\n",
    "                train.append(\"\")\n",
    "            else:\n",
    "                dev.append(\"\")   \n",
    "            #print()\n",
    "            if was_tag:\n",
    "                sents_with_tag += 1\n",
    "            else:\n",
    "                sents_without_tag += 1\n",
    "            was_tag = False    \n",
    "            continue\n",
    "        w,t = line.strip().split(\"\\t\")\n",
    "        t_new = t\n",
    "        total_samples += 1\n",
    "        if t != \"O\":\n",
    "            was_tag = True\n",
    "            total_tags += 1\n",
    "        if t != \"O\" and prev_t == \"O\":\n",
    "            t_new = \"B-\" + t\n",
    "        if t != \"O\" and prev_t != \"O\":\n",
    "            if prev_t == t:\n",
    "                t_new = \"I-\" +t\n",
    "            else:\n",
    "                t_new = \"B-\" + t\n",
    "        prev_t = t\n",
    "        #print(w,t, t_new) \n",
    "        lines.append(\"{} {}\".format(w, t_new))\n",
    "        if processing_train:\n",
    "            train.append(\"{} {}\".format(w, t_new))\n",
    "        else:\n",
    "            dev.append(\"{} {}\".format(w, t_new)) \n",
    "\n",
    "print(\"total samples: \", total_samples)\n",
    "print(\"total tags: \", total_tags)\n",
    "print(\"total sents - perc: \", total_tags/total_samples)\n",
    "            \n",
    "print(\"sents_with_tag: \", sents_with_tag)        \n",
    "print(\"sents_without_tag: \", sents_without_tag)\n",
    "print(\"sents_with_tags - perc: \", sents_with_tag/(sents_with_tag+sents_without_tag))\n",
    "\n",
    "\n",
    "print(\"train: \", len(train))\n",
    "print(\"dev: \", len(dev))\n"
   ]
  },
  {
   "cell_type": "code",
   "execution_count": 15,
   "metadata": {},
   "outputs": [],
   "source": [
    "with open('/mnt/data/data/ner/sk_train_8.3M.iob', 'wt', encoding='utf8') as f:        \n",
    "     for item in train:\n",
    "        f.write(\"%s\\n\" % item)\n",
    "with open('/mnt/data/data/ner/sk_dev_714k.iob', 'wt', encoding='utf8') as f:        \n",
    "     for item in dev:\n",
    "        f.write(\"%s\\n\" % item)        "
   ]
  }
 ],
 "metadata": {
  "kernelspec": {
   "display_name": "local-venv",
   "language": "python",
   "name": "local-venv"
  },
  "language_info": {
   "codemirror_mode": {
    "name": "ipython",
    "version": 3
   },
   "file_extension": ".py",
   "mimetype": "text/x-python",
   "name": "python",
   "nbconvert_exporter": "python",
   "pygments_lexer": "ipython3",
   "version": "3.6.9"
  }
 },
 "nbformat": 4,
 "nbformat_minor": 2
}
