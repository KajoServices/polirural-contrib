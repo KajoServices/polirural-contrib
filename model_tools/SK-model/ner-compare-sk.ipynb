{
 "cells": [
  {
   "cell_type": "markdown",
   "metadata": {},
   "source": [
    "# comparing trained NER models "
   ]
  },
  {
   "cell_type": "code",
   "execution_count": 1,
   "metadata": {},
   "outputs": [],
   "source": [
    "import spacy"
   ]
  },
  {
   "cell_type": "code",
   "execution_count": 2,
   "metadata": {},
   "outputs": [],
   "source": [
    "nlp1 = spacy.load(\"/mnt/data/data/sk-vectors-fasttext-new-ner_only_n10/model-best\")\n",
    "nlp2 = spacy.load(\"/mnt/data/data/sk-vectors-fasttext-prune10000-ner_only_n20/model-best\")\n",
    "nlp3 = spacy.load(\"/mnt/data/data/sk-vectors-fasttext-prune50000-ner_only_n20/model-best\")\n",
    "nlp4 = spacy.load(\"/mnt/data/data/sk-ner_only_full_n20/model-best\")\n",
    "#nlp.lang"
   ]
  },
  {
   "cell_type": "code",
   "execution_count": 3,
   "metadata": {},
   "outputs": [
    {
     "name": "stdout",
     "output_type": "stream",
     "text": [
      "9616\n",
      "9712\n",
      "9712\n",
      "9584\n"
     ]
    }
   ],
   "source": [
    "from pympler import asizeof\n",
    "print(asizeof.asizeof(nlp1))\n",
    "print(asizeof.asizeof(nlp2))\n",
    "print(asizeof.asizeof(nlp3))\n",
    "print(asizeof.asizeof(nlp4))"
   ]
  },
  {
   "cell_type": "code",
   "execution_count": 4,
   "metadata": {},
   "outputs": [],
   "source": [
    "# volby2020.txt ochranna_znamka.txt pleso.txt\n",
    "with open('/home/dzon/kajo/sk-texts/volby2020.txt', 'rt', encoding='utf8') as f:\n",
    "    temp = f.readlines()\n",
    "    for i in range(len(temp)):\n",
    "        temp[i] = temp[i].strip() #.lower()\n",
    "text_sk = \"\\n\".join(temp)"
   ]
  },
  {
   "cell_type": "code",
   "execution_count": 5,
   "metadata": {},
   "outputs": [
    {
     "name": "stdout",
     "output_type": "stream",
     "text": [
      "12\n",
      "12\n",
      "10\n",
      "9\n"
     ]
    }
   ],
   "source": [
    "doc1 = nlp1(text_sk)\n",
    "doc2 = nlp2(text_sk)\n",
    "doc3 = nlp3(text_sk)\n",
    "doc4 = nlp4(text_sk)\n",
    "print(len(doc1.ents))\n",
    "print(len(doc2.ents))\n",
    "print(len(doc3.ents))\n",
    "print(len(doc4.ents))"
   ]
  },
  {
   "cell_type": "code",
   "execution_count": 6,
   "metadata": {},
   "outputs": [
    {
     "name": "stdout",
     "output_type": "stream",
     "text": [
      "Jurajom Puchým :  PER\n",
      "ANO :  ORG\n",
      "Pavol Rusko :  PER\n",
      "ANO :  ORG\n",
      "KDH :  ORG\n",
      "Rusko :  LOC\n",
      "Jozefovi Brhelovi :  PER\n",
      "HZDS :  ORG\n",
      "Vladimíra Mečiara :  PER\n",
      "HZDS :  ORG\n",
      "HZDS :  ORG\n",
      "Brhel :  PER\n",
      "------------\n",
      "Peter Pellegrini :  PER\n",
      "Roberta Fica :  PER\n",
      "ANO :  ORG\n",
      "Pavol Rusko :  PER\n",
      "ANO :  ORG\n",
      "KDH :  ORG\n",
      "Smeru-SD :  ORG\n",
      "Robert Fico :  PER\n",
      "HZDS :  ORG\n",
      "Vladimíra Mečiara :  PER\n",
      "HZDS :  ORG\n",
      "HZDS :  ORG\n",
      "------------\n",
      "ANO :  ORG\n",
      "ANO :  ORG\n",
      "KDH :  ORG\n",
      "Rusko :  LOC\n",
      "Robert Fico :  PER\n",
      "HZDS :  ORG\n",
      "Vladimíra Mečiara :  PER\n",
      "HZDS :  ORG\n",
      "HZDS :  ORG\n",
      "Tlačového :  PER\n",
      "------------\n",
      "ANO :  ORG\n",
      "Pavol Rusko :  PER\n",
      "KDH :  ORG\n",
      "Robert Fico :  PER\n",
      "HZDS :  ORG\n",
      "Vladimíra Mečiara :  PER\n",
      "HZDS :  ORG\n",
      "Ľudovej únie :  ORG\n",
      "HZDS :  ORG\n"
     ]
    }
   ],
   "source": [
    "for ent in doc1.ents:\n",
    "    print(ent.text, \": \", ent.label_)\n",
    "print(\"------------\")    \n",
    "    \n",
    "for ent in doc2.ents:\n",
    "    print(ent.text, \": \", ent.label_)\n",
    "print(\"------------\")    \n",
    "    \n",
    "for ent in doc3.ents:\n",
    "    print(ent.text, \": \", ent.label_)    \n",
    "\n",
    "print(\"------------\")    \n",
    "    \n",
    "for ent in doc4.ents:\n",
    "    print(ent.text, \": \", ent.label_)        "
   ]
  },
  {
   "cell_type": "code",
   "execution_count": 7,
   "metadata": {},
   "outputs": [
    {
     "name": "stdout",
     "output_type": "stream",
     "text": [
      "34\n"
     ]
    },
    {
     "data": {
      "text/plain": [
       "[I-PER(['Peter', 'Pellegrini']),\n",
       " I-PER(['Roberta', 'Fica', '.']),\n",
       " I-PER(['Juraja']),\n",
       " I-PER(['Peter', 'Pellegrini']),\n",
       " I-PER(['Jurajom', 'Puchým']),\n",
       " I-ORG(['ANO']),\n",
       " I-PER(['Pavol', 'Rusko']),\n",
       " I-ORG(['ANO']),\n",
       " I-PER(['ANO', 'Puchý']),\n",
       " I-PER(['Ľubomíra', 'Blaška']),\n",
       " I-ORG(['KDH']),\n",
       " I-LOC(['Ruska']),\n",
       " I-LOC(['Rusko']),\n",
       " I-PER(['Jozefovi', 'Brhelovi']),\n",
       " I-PER(['Robert', 'Fico']),\n",
       " I-PER(['Marek', 'Vagovič']),\n",
       " I-ORG(['HZDS']),\n",
       " I-PER(['Brhel']),\n",
       " I-PER(['Vladimíra', 'Mečiara']),\n",
       " I-LOC(['HZDS']),\n",
       " I-ORG(['Ľudovej', 'únie']),\n",
       " I-PER(['Jaroslav', 'Jaduš']),\n",
       " I-PER(['Ivan', 'Kiňo']),\n",
       " I-PER(['Ján', 'Gabriel']),\n",
       " I-PER(['Jozef', 'Brhel']),\n",
       " I-ORG(['HZDS']),\n",
       " I-PER(['.']),\n",
       " I-PER(['Brhel']),\n",
       " I-PER(['Puchý']),\n",
       " I-PER(['Juraj', 'Puchý']),\n",
       " I-ORG(['ÚV', 'SR']),\n",
       " I-LOC(['Slovakia']),\n",
       " I-ORG(['PRG', 'consulting']),\n",
       " I-PER(['s.r.o'])]"
      ]
     },
     "execution_count": 7,
     "metadata": {},
     "output_type": "execute_result"
    }
   ],
   "source": [
    "from polyglot.text import Text\n",
    "text = Text(text_sk, hint_language_code='sk')\n",
    "print(len(text.entities))\n",
    "text.entities"
   ]
  },
  {
   "cell_type": "code",
   "execution_count": 8,
   "metadata": {},
   "outputs": [
    {
     "data": {
      "text/html": [
       "<div class=\"entities\" style=\"line-height: 2.5; direction: ltr\">Hoci sa premiér Peter Pellegrini v kampani profiluje ako tvár nového Smeru-SD a jeho volebným sloganom je zodpovedná zmena, svojim slovníkom či výberom ľudí začína čoraz viac pripomínať svojho straníckeho šéfa Roberta Fica.</br>Aktualizované o reakciu Juraja Puchého</br></br>Podľa informácií Aktuality.sk z dobre informovaného zdroja, predseda vlády a podpredseda Smeru-SD Peter Pellegrini spolupracuje aj s \n",
       "<mark class=\"entity\" style=\"background: #ddd; padding: 0.45em 0.6em; margin: 0 0.25em; line-height: 1; border-radius: 0.35em;\">\n",
       "    Jurajom Puchým\n",
       "    <span style=\"font-size: 0.8em; font-weight: bold; line-height: 1; border-radius: 0.35em; text-transform: uppercase; vertical-align: middle; margin-left: 0.5rem\">PER</span>\n",
       "</mark>\n",
       ".</br></br>Ten v minulosti pôsobil nielen ako riaditeľ Kancelárie Národného bezpečnostného úradu (NBÚ), ale po svojom vynútenom odchode zakotvil aj v strane \n",
       "<mark class=\"entity\" style=\"background: #7aecec; padding: 0.45em 0.6em; margin: 0 0.25em; line-height: 1; border-radius: 0.35em;\">\n",
       "    ANO\n",
       "    <span style=\"font-size: 0.8em; font-weight: bold; line-height: 1; border-radius: 0.35em; text-transform: uppercase; vertical-align: middle; margin-left: 0.5rem\">ORG</span>\n",
       "</mark>\n",
       ", ktorú viedol dnes už obžalovaný \n",
       "<mark class=\"entity\" style=\"background: #ddd; padding: 0.45em 0.6em; margin: 0 0.25em; line-height: 1; border-radius: 0.35em;\">\n",
       "    Pavol Rusko\n",
       "    <span style=\"font-size: 0.8em; font-weight: bold; line-height: 1; border-radius: 0.35em; text-transform: uppercase; vertical-align: middle; margin-left: 0.5rem\">PER</span>\n",
       "</mark>\n",
       ".</br></br>V \n",
       "<mark class=\"entity\" style=\"background: #7aecec; padding: 0.45em 0.6em; margin: 0 0.25em; line-height: 1; border-radius: 0.35em;\">\n",
       "    ANO\n",
       "    <span style=\"font-size: 0.8em; font-weight: bold; line-height: 1; border-radius: 0.35em; text-transform: uppercase; vertical-align: middle; margin-left: 0.5rem\">ORG</span>\n",
       "</mark>\n",
       " Puchý pôsobil ako generálny sekretár a pri Ruskovi stál napríklad aj v čase, keď šéf strany nevedel vysvetliť, ako si požičal 100 miliónov korún formou zmeniek od podnikateľa Ľubomíra Blaška.</br></br>Vo vtedajšej koalícii to spôsobilo veľkú krízu a \n",
       "<mark class=\"entity\" style=\"background: #7aecec; padding: 0.45em 0.6em; margin: 0 0.25em; line-height: 1; border-radius: 0.35em;\">\n",
       "    KDH\n",
       "    <span style=\"font-size: 0.8em; font-weight: bold; line-height: 1; border-radius: 0.35em; text-transform: uppercase; vertical-align: middle; margin-left: 0.5rem\">ORG</span>\n",
       "</mark>\n",
       " žiadalo odvolanie Ruska z funkcie ministerstva hospodárstva. Kresťanskí demokrati so svojim návrhom nakoniec aj uspeli.</br></br>Blízko k oligarchovi</br>\n",
       "<mark class=\"entity\" style=\"background: #ff9561; padding: 0.45em 0.6em; margin: 0 0.25em; line-height: 1; border-radius: 0.35em;\">\n",
       "    Rusko\n",
       "    <span style=\"font-size: 0.8em; font-weight: bold; line-height: 1; border-radius: 0.35em; text-transform: uppercase; vertical-align: middle; margin-left: 0.5rem\">LOC</span>\n",
       "</mark>\n",
       " pritom nie je jediným zaujímavým človekom, pre ktorého Puchý v minulosti pracoval. Ako hovorca bol blízko aj oligarchovi \n",
       "<mark class=\"entity\" style=\"background: #ddd; padding: 0.45em 0.6em; margin: 0 0.25em; line-height: 1; border-radius: 0.35em;\">\n",
       "    Jozefovi Brhelovi\n",
       "    <span style=\"font-size: 0.8em; font-weight: bold; line-height: 1; border-radius: 0.35em; text-transform: uppercase; vertical-align: middle; margin-left: 0.5rem\">PER</span>\n",
       "</mark>\n",
       ", ktorého meno sa spája s financovaním Smeru-SD.</br></br>Aktuality.sk ešte v marci 2015 napísali, že Brhelove firmy dostali od štátu lukratívne zákazky za niekoľko stoviek miliónov eur. A to v čase, keď bol pri vládnom kormidle práve predseda Smeru-SD Robert Fico.</br></br>Počas Ficovho vládnutia to teda bolo dovedna 271 miliónov eur, ďalšie zákazky za 280 miliónov dostali firmy okolo Brhela v konzorciách.</br></br>„Číslo 271 miliónov eur - to je spodný odhad, ktorý vieme vyhľadať z centrálneho registra zmlúv, z vestníka verejného obstarávania a z výročných správ tých firiem,“ poznamenal v tom čase šéf investígatívneho tímu Aktuality.sk Marek Vagovič.</br></br>Od \n",
       "<mark class=\"entity\" style=\"background: #7aecec; padding: 0.45em 0.6em; margin: 0 0.25em; line-height: 1; border-radius: 0.35em;\">\n",
       "    HZDS\n",
       "    <span style=\"font-size: 0.8em; font-weight: bold; line-height: 1; border-radius: 0.35em; text-transform: uppercase; vertical-align: middle; margin-left: 0.5rem\">ORG</span>\n",
       "</mark>\n",
       " k Smeru</br>Jozef Brhel bol vo vláde \n",
       "<mark class=\"entity\" style=\"background: #ddd; padding: 0.45em 0.6em; margin: 0 0.25em; line-height: 1; border-radius: 0.35em;\">\n",
       "    Vladimíra Mečiara\n",
       "    <span style=\"font-size: 0.8em; font-weight: bold; line-height: 1; border-radius: 0.35em; text-transform: uppercase; vertical-align: middle; margin-left: 0.5rem\">PER</span>\n",
       "</mark>\n",
       " štátnym tajomníkom rezortu hospodárstva, v rokoch 1998 až 2003 poslancom. V poslednom roku uplatňovania svojho mandátu vystúpil z \n",
       "<mark class=\"entity\" style=\"background: #7aecec; padding: 0.45em 0.6em; margin: 0 0.25em; line-height: 1; border-radius: 0.35em;\">\n",
       "    HZDS\n",
       "    <span style=\"font-size: 0.8em; font-weight: bold; line-height: 1; border-radius: 0.35em; text-transform: uppercase; vertical-align: middle; margin-left: 0.5rem\">ORG</span>\n",
       "</mark>\n",
       " a bol pri zrode Ľudovej únie. Koncom roka 2003 napokon z politiky odišiel a začal podnikať.</br></br>Niekdajší poslanec Jaroslav Jaduš v minulosti vyhlásil, že „pre ľudí ako Ivan Kiňo, Ján Gabriel či Jozef Brhel bol Smer vedľajšou investíciou, ak by sa \n",
       "<mark class=\"entity\" style=\"background: #7aecec; padding: 0.45em 0.6em; margin: 0 0.25em; line-height: 1; border-radius: 0.35em;\">\n",
       "    HZDS\n",
       "    <span style=\"font-size: 0.8em; font-weight: bold; line-height: 1; border-radius: 0.35em; text-transform: uppercase; vertical-align: middle; margin-left: 0.5rem\">ORG</span>\n",
       "</mark>\n",
       " po voľbách nedostalo do vlády“. Išlo o voľby v roku 2002.</br></br>Okrem toho sa \n",
       "<mark class=\"entity\" style=\"background: #ddd; padding: 0.45em 0.6em; margin: 0 0.25em; line-height: 1; border-radius: 0.35em;\">\n",
       "    Brhel\n",
       "    <span style=\"font-size: 0.8em; font-weight: bold; line-height: 1; border-radius: 0.35em; text-transform: uppercase; vertical-align: middle; margin-left: 0.5rem\">PER</span>\n",
       "</mark>\n",
       " spomínal aj v údajnom spise tajnej služby Gorila, ktorej autenticita sa nepotvrdila, v súvislosti s piatimi akcionármi Smeru.\n",
       "\n",
       "Zamestnanec úradu vlády nie je\n",
       "Nie je pritom jasné, v akej oblasti a prečo sa Puchý dostal do blízkosti premiéra. Úrad vlády tvrdí, že ich zamestnancom nie je.\n",
       "\n",
       "„Juraj Puchý na úrade vlády nepôsobí a nikdy nepôsobil a o jeho aktivitách nemá úrad vlády ani premiér žiadne informácie,” uvádza sa v stanovisku Tlačového a informačného odboru ÚV SR.\n",
       "\n",
       "V minulosti pôsobil aj v PR agentúre AMI Communications Slovakia. Podľa výpisu obchodného registra má dnes firmu PRG consulting, s.r.o. Tá sa okrem iného venuje napríklad marketingovým a reklamným službám.\n",
       "\n",
       "„Za posledné minimálne štyri roky medzi mojich klientov nepatril žiadny orgán štátnej správy, politická strana ani politik,“ odmieta kritiku Puchý.\n",
       "\n",
       "„Denne sa v rámci svojej práce stretávam a telefonujem s rôznymi novinármi z viacerých médií a diskutujem s nimi na rôzne témy, vrátane aktuálnej spoločenskej situácie a volebnej kampane. Ide však len o prezentáciu mojich súkromných názorov v rámci súkromných rozhovorov,“ uzatvára Puchý pre Aktuality.sk.</div>"
      ],
      "text/plain": [
       "<IPython.core.display.HTML object>"
      ]
     },
     "metadata": {},
     "output_type": "display_data"
    }
   ],
   "source": [
    "spacy.displacy.render(doc1, style='ent')"
   ]
  },
  {
   "cell_type": "code",
   "execution_count": 9,
   "metadata": {},
   "outputs": [
    {
     "data": {
      "text/html": [
       "<div class=\"entities\" style=\"line-height: 2.5; direction: ltr\">Hoci sa premiér \n",
       "<mark class=\"entity\" style=\"background: #ddd; padding: 0.45em 0.6em; margin: 0 0.25em; line-height: 1; border-radius: 0.35em;\">\n",
       "    Peter Pellegrini\n",
       "    <span style=\"font-size: 0.8em; font-weight: bold; line-height: 1; border-radius: 0.35em; text-transform: uppercase; vertical-align: middle; margin-left: 0.5rem\">PER</span>\n",
       "</mark>\n",
       " v kampani profiluje ako tvár nového Smeru-SD a jeho volebným sloganom je zodpovedná zmena, svojim slovníkom či výberom ľudí začína čoraz viac pripomínať svojho straníckeho šéfa \n",
       "<mark class=\"entity\" style=\"background: #ddd; padding: 0.45em 0.6em; margin: 0 0.25em; line-height: 1; border-radius: 0.35em;\">\n",
       "    Roberta Fica\n",
       "    <span style=\"font-size: 0.8em; font-weight: bold; line-height: 1; border-radius: 0.35em; text-transform: uppercase; vertical-align: middle; margin-left: 0.5rem\">PER</span>\n",
       "</mark>\n",
       ".</br>Aktualizované o reakciu Juraja Puchého</br></br>Podľa informácií Aktuality.sk z dobre informovaného zdroja, predseda vlády a podpredseda Smeru-SD Peter Pellegrini spolupracuje aj s Jurajom Puchým.</br></br>Ten v minulosti pôsobil nielen ako riaditeľ Kancelárie Národného bezpečnostného úradu (NBÚ), ale po svojom vynútenom odchode zakotvil aj v strane \n",
       "<mark class=\"entity\" style=\"background: #7aecec; padding: 0.45em 0.6em; margin: 0 0.25em; line-height: 1; border-radius: 0.35em;\">\n",
       "    ANO\n",
       "    <span style=\"font-size: 0.8em; font-weight: bold; line-height: 1; border-radius: 0.35em; text-transform: uppercase; vertical-align: middle; margin-left: 0.5rem\">ORG</span>\n",
       "</mark>\n",
       ", ktorú viedol dnes už obžalovaný \n",
       "<mark class=\"entity\" style=\"background: #ddd; padding: 0.45em 0.6em; margin: 0 0.25em; line-height: 1; border-radius: 0.35em;\">\n",
       "    Pavol Rusko\n",
       "    <span style=\"font-size: 0.8em; font-weight: bold; line-height: 1; border-radius: 0.35em; text-transform: uppercase; vertical-align: middle; margin-left: 0.5rem\">PER</span>\n",
       "</mark>\n",
       ".</br></br>V \n",
       "<mark class=\"entity\" style=\"background: #7aecec; padding: 0.45em 0.6em; margin: 0 0.25em; line-height: 1; border-radius: 0.35em;\">\n",
       "    ANO\n",
       "    <span style=\"font-size: 0.8em; font-weight: bold; line-height: 1; border-radius: 0.35em; text-transform: uppercase; vertical-align: middle; margin-left: 0.5rem\">ORG</span>\n",
       "</mark>\n",
       " Puchý pôsobil ako generálny sekretár a pri Ruskovi stál napríklad aj v čase, keď šéf strany nevedel vysvetliť, ako si požičal 100 miliónov korún formou zmeniek od podnikateľa Ľubomíra Blaška.</br></br>Vo vtedajšej koalícii to spôsobilo veľkú krízu a \n",
       "<mark class=\"entity\" style=\"background: #7aecec; padding: 0.45em 0.6em; margin: 0 0.25em; line-height: 1; border-radius: 0.35em;\">\n",
       "    KDH\n",
       "    <span style=\"font-size: 0.8em; font-weight: bold; line-height: 1; border-radius: 0.35em; text-transform: uppercase; vertical-align: middle; margin-left: 0.5rem\">ORG</span>\n",
       "</mark>\n",
       " žiadalo odvolanie Ruska z funkcie ministerstva hospodárstva. Kresťanskí demokrati so svojim návrhom nakoniec aj uspeli.</br></br>Blízko k oligarchovi</br>Rusko pritom nie je jediným zaujímavým človekom, pre ktorého Puchý v minulosti pracoval. Ako hovorca bol blízko aj oligarchovi Jozefovi Brhelovi, ktorého meno sa spája s financovaním \n",
       "<mark class=\"entity\" style=\"background: #7aecec; padding: 0.45em 0.6em; margin: 0 0.25em; line-height: 1; border-radius: 0.35em;\">\n",
       "    Smeru-SD\n",
       "    <span style=\"font-size: 0.8em; font-weight: bold; line-height: 1; border-radius: 0.35em; text-transform: uppercase; vertical-align: middle; margin-left: 0.5rem\">ORG</span>\n",
       "</mark>\n",
       ".</br></br>Aktuality.sk ešte v marci 2015 napísali, že Brhelove firmy dostali od štátu lukratívne zákazky za niekoľko stoviek miliónov eur. A to v čase, keď bol pri vládnom kormidle práve predseda Smeru-SD \n",
       "<mark class=\"entity\" style=\"background: #ddd; padding: 0.45em 0.6em; margin: 0 0.25em; line-height: 1; border-radius: 0.35em;\">\n",
       "    Robert Fico\n",
       "    <span style=\"font-size: 0.8em; font-weight: bold; line-height: 1; border-radius: 0.35em; text-transform: uppercase; vertical-align: middle; margin-left: 0.5rem\">PER</span>\n",
       "</mark>\n",
       ".</br></br>Počas Ficovho vládnutia to teda bolo dovedna 271 miliónov eur, ďalšie zákazky za 280 miliónov dostali firmy okolo Brhela v konzorciách.</br></br>„Číslo 271 miliónov eur - to je spodný odhad, ktorý vieme vyhľadať z centrálneho registra zmlúv, z vestníka verejného obstarávania a z výročných správ tých firiem,“ poznamenal v tom čase šéf investígatívneho tímu Aktuality.sk Marek Vagovič.</br></br>Od \n",
       "<mark class=\"entity\" style=\"background: #7aecec; padding: 0.45em 0.6em; margin: 0 0.25em; line-height: 1; border-radius: 0.35em;\">\n",
       "    HZDS\n",
       "    <span style=\"font-size: 0.8em; font-weight: bold; line-height: 1; border-radius: 0.35em; text-transform: uppercase; vertical-align: middle; margin-left: 0.5rem\">ORG</span>\n",
       "</mark>\n",
       " k Smeru</br>Jozef Brhel bol vo vláde \n",
       "<mark class=\"entity\" style=\"background: #ddd; padding: 0.45em 0.6em; margin: 0 0.25em; line-height: 1; border-radius: 0.35em;\">\n",
       "    Vladimíra Mečiara\n",
       "    <span style=\"font-size: 0.8em; font-weight: bold; line-height: 1; border-radius: 0.35em; text-transform: uppercase; vertical-align: middle; margin-left: 0.5rem\">PER</span>\n",
       "</mark>\n",
       " štátnym tajomníkom rezortu hospodárstva, v rokoch 1998 až 2003 poslancom. V poslednom roku uplatňovania svojho mandátu vystúpil z \n",
       "<mark class=\"entity\" style=\"background: #7aecec; padding: 0.45em 0.6em; margin: 0 0.25em; line-height: 1; border-radius: 0.35em;\">\n",
       "    HZDS\n",
       "    <span style=\"font-size: 0.8em; font-weight: bold; line-height: 1; border-radius: 0.35em; text-transform: uppercase; vertical-align: middle; margin-left: 0.5rem\">ORG</span>\n",
       "</mark>\n",
       " a bol pri zrode Ľudovej únie. Koncom roka 2003 napokon z politiky odišiel a začal podnikať.</br></br>Niekdajší poslanec Jaroslav Jaduš v minulosti vyhlásil, že „pre ľudí ako Ivan Kiňo, Ján Gabriel či Jozef Brhel bol Smer vedľajšou investíciou, ak by sa \n",
       "<mark class=\"entity\" style=\"background: #7aecec; padding: 0.45em 0.6em; margin: 0 0.25em; line-height: 1; border-radius: 0.35em;\">\n",
       "    HZDS\n",
       "    <span style=\"font-size: 0.8em; font-weight: bold; line-height: 1; border-radius: 0.35em; text-transform: uppercase; vertical-align: middle; margin-left: 0.5rem\">ORG</span>\n",
       "</mark>\n",
       " po voľbách nedostalo do vlády“. Išlo o voľby v roku 2002.\n",
       "\n",
       "Okrem toho sa Brhel spomínal aj v údajnom spise tajnej služby Gorila, ktorej autenticita sa nepotvrdila, v súvislosti s piatimi akcionármi Smeru.\n",
       "\n",
       "Zamestnanec úradu vlády nie je\n",
       "Nie je pritom jasné, v akej oblasti a prečo sa Puchý dostal do blízkosti premiéra. Úrad vlády tvrdí, že ich zamestnancom nie je.\n",
       "\n",
       "„Juraj Puchý na úrade vlády nepôsobí a nikdy nepôsobil a o jeho aktivitách nemá úrad vlády ani premiér žiadne informácie,” uvádza sa v stanovisku Tlačového a informačného odboru ÚV SR.\n",
       "\n",
       "V minulosti pôsobil aj v PR agentúre AMI Communications Slovakia. Podľa výpisu obchodného registra má dnes firmu PRG consulting, s.r.o. Tá sa okrem iného venuje napríklad marketingovým a reklamným službám.\n",
       "\n",
       "„Za posledné minimálne štyri roky medzi mojich klientov nepatril žiadny orgán štátnej správy, politická strana ani politik,“ odmieta kritiku Puchý.\n",
       "\n",
       "„Denne sa v rámci svojej práce stretávam a telefonujem s rôznymi novinármi z viacerých médií a diskutujem s nimi na rôzne témy, vrátane aktuálnej spoločenskej situácie a volebnej kampane. Ide však len o prezentáciu mojich súkromných názorov v rámci súkromných rozhovorov,“ uzatvára Puchý pre Aktuality.sk.</div>"
      ],
      "text/plain": [
       "<IPython.core.display.HTML object>"
      ]
     },
     "metadata": {},
     "output_type": "display_data"
    }
   ],
   "source": [
    "spacy.displacy.render(doc2, style='ent')"
   ]
  }
 ],
 "metadata": {
  "kernelspec": {
   "display_name": "local-venv",
   "language": "python",
   "name": "local-venv"
  },
  "language_info": {
   "codemirror_mode": {
    "name": "ipython",
    "version": 3
   },
   "file_extension": ".py",
   "mimetype": "text/x-python",
   "name": "python",
   "nbconvert_exporter": "python",
   "pygments_lexer": "ipython3",
   "version": "3.6.9"
  }
 },
 "nbformat": 4,
 "nbformat_minor": 2
}
