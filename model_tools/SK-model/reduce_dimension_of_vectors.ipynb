{
 "cells": [
  {
   "cell_type": "markdown",
   "metadata": {},
   "source": [
    "# testing the dimension reduction of word2vec models"
   ]
  },
  {
   "cell_type": "code",
   "execution_count": 27,
   "metadata": {},
   "outputs": [],
   "source": [
    "import fasttext\n",
    "from gensim.models import Word2Vec, KeyedVectors\n",
    "import numpy as np\n",
    "import gensim\n",
    "from pprint import pprint"
   ]
  },
  {
   "cell_type": "code",
   "execution_count": null,
   "metadata": {},
   "outputs": [],
   "source": [
    "model_filename = '/mnt/data/data/models-fasttext/cc.sk.300-lemma_500k_min2_excluded.vec.bin'\n",
    "model_big = KeyedVectors.load_word2vec_format(model_filename, binary=True)\n",
    "model_big.save_word2vec_format(model_filename+'.txt', binary=False)\n",
    "#model = fasttext.load_model(model_filename+'.txt')"
   ]
  },
  {
   "cell_type": "code",
   "execution_count": 7,
   "metadata": {},
   "outputs": [],
   "source": [
    "vec = model_big.vectors"
   ]
  },
  {
   "cell_type": "code",
   "execution_count": 12,
   "metadata": {},
   "outputs": [
    {
     "name": "stdout",
     "output_type": "stream",
     "text": [
      "148816 300\n"
     ]
    }
   ],
   "source": [
    "print(len(vec), len(vec[0]))"
   ]
  },
  {
   "cell_type": "code",
   "execution_count": 20,
   "metadata": {},
   "outputs": [
    {
     "name": "stdout",
     "output_type": "stream",
     "text": [
      "300 100\n"
     ]
    }
   ],
   "source": [
    "mapping_size = 100000\n",
    "dim = 100\n",
    "#X = vec[:mapping_size]\n",
    "X = vec\n",
    "X = X - X.mean(axis=0, dtype=np.float32)\n",
    "C = np.divide(np.matmul(X.T, X), X.shape[0] - 1, dtype=np.float32)\n",
    "_, U = np.linalg.eig(C)\n",
    "eigv = U[:, :dim]\n",
    "print(len(eigv), len(eigv[0]))\n",
    "#X_reduced = np.matmul(X_orig, eigv)"
   ]
  },
  {
   "cell_type": "code",
   "execution_count": 22,
   "metadata": {},
   "outputs": [
    {
     "name": "stdout",
     "output_type": "stream",
     "text": [
      "148816 100\n"
     ]
    }
   ],
   "source": [
    "X_reduced = np.matmul(vec, eigv)\n",
    "print(len(X_reduced), len(X_reduced[0]))"
   ]
  },
  {
   "cell_type": "code",
   "execution_count": 25,
   "metadata": {},
   "outputs": [],
   "source": [
    "new_vector_space = gensim.models.keyedvectors.Word2VecKeyedVectors(100)\n",
    "\n",
    "new_vector_space.add(model_big.index2word,X_reduced)"
   ]
  },
  {
   "cell_type": "code",
   "execution_count": 51,
   "metadata": {},
   "outputs": [],
   "source": [
    "model_filename_reduced = '/mnt/data/data/models-fasttext/cc.sk.100-lemma_500k_min2_excluded.vec.bin'\n",
    "new_vector_space.save_word2vec_format(model_filename_reduced, binary=True)"
   ]
  },
  {
   "cell_type": "code",
   "execution_count": 28,
   "metadata": {},
   "outputs": [
    {
     "name": "stdout",
     "output_type": "stream",
     "text": [
      "[('syn', 0.7990518808364868),\n",
      " ('otcov', 0.7085798978805542),\n",
      " ('matka', 0.7008340358734131),\n",
      " ('syna', 0.6916787624359131),\n",
      " ('brat', 0.6684491634368896),\n",
      " ('mama', 0.6567193269729614),\n",
      " ('otcova', 0.6508373022079468),\n",
      " ('ded', 0.6416566371917725),\n",
      " ('rodič', 0.6386483907699585),\n",
      " ('otcovstvo', 0.6213870048522949)]\n",
      "[('kráľovná', 0.8815598487854004),\n",
      " ('kráľovna', 0.8545932769775391),\n",
      " ('kráľov', 0.8528066277503967),\n",
      " ('kráľovstvo', 0.8361407518386841),\n",
      " ('kráľovena', 0.826107919216156),\n",
      " ('panovník', 0.8226426839828491),\n",
      " ('kráľový', 0.8216139078140259),\n",
      " ('kráľovič', 0.8085234761238098),\n",
      " ('král', 0.8070907592773438),\n",
      " ('panovníčka', 0.8058594465255737)]\n"
     ]
    }
   ],
   "source": [
    "pprint(model_big.most_similar('otec'))\n",
    "pprint(model_big.most_similar_cosmul(positive=['žena', 'kráľ'], negative=['muž']))"
   ]
  },
  {
   "cell_type": "code",
   "execution_count": 29,
   "metadata": {},
   "outputs": [
    {
     "name": "stdout",
     "output_type": "stream",
     "text": [
      "[('syn', 0.8788043260574341),\n",
      " ('syna', 0.7982639074325562),\n",
      " ('brat', 0.7961896657943726),\n",
      " ('matka', 0.7773278951644897),\n",
      " ('ježiš', 0.7616710662841797),\n",
      " ('boh', 0.7604951858520508),\n",
      " ('otcov', 0.7484495639801025),\n",
      " ('učeník', 0.7449938058853149),\n",
      " ('ježiša', 0.7438328266143799),\n",
      " ('boží', 0.7251167893409729)]\n",
      "[('kráľovná', 0.9018763899803162),\n",
      " ('panovníčka', 0.8892630338668823),\n",
      " ('panovník', 0.876750648021698),\n",
      " ('kráľovena', 0.8761286735534668),\n",
      " ('kráľovna', 0.8754265904426575),\n",
      " ('kráľov', 0.8744796514511108),\n",
      " ('kráľovstvo', 0.8699237108230591),\n",
      " ('trón', 0.8657398819923401),\n",
      " ('princ', 0.8638396859169006),\n",
      " ('panovníček', 0.8636679649353027)]\n"
     ]
    }
   ],
   "source": [
    "pprint(new_vector_space.most_similar('otec'))\n",
    "pprint(new_vector_space.most_similar_cosmul(positive=['žena', 'kráľ'], negative=['muž']))"
   ]
  },
  {
   "cell_type": "code",
   "execution_count": 33,
   "metadata": {},
   "outputs": [
    {
     "name": "stdout",
     "output_type": "stream",
     "text": [
      "\n",
      "time:  26.869284629821777\n"
     ]
    }
   ],
   "source": [
    "import time\n",
    "start = time.time()\n",
    "for i in range(1000):\n",
    "    new_vector_space.most_similar_cosmul(positive=['žena', 'kráľ'], negative=['muž'])\n",
    "\n",
    "print(\"\\ntime: \",time.time()-start)"
   ]
  },
  {
   "cell_type": "code",
   "execution_count": 34,
   "metadata": {},
   "outputs": [
    {
     "name": "stdout",
     "output_type": "stream",
     "text": [
      "\n",
      "time:  56.53255081176758\n"
     ]
    }
   ],
   "source": [
    "import time\n",
    "start = time.time()\n",
    "for i in range(1000):\n",
    "    model_big.most_similar_cosmul(positive=['žena', 'kráľ'], negative=['muž'])\n",
    "\n",
    "print(\"\\ntime: \",time.time()-start)"
   ]
  },
  {
   "cell_type": "code",
   "execution_count": 56,
   "metadata": {},
   "outputs": [
    {
     "name": "stdout",
     "output_type": "stream",
     "text": [
      "0.516289522139179\n",
      "\n",
      "time:  18.12471628189087\n",
      "0.41870491548955485\n",
      "\n",
      "time:  17.27615451812744\n",
      " "
     ]
    }
   ],
   "source": [
    "%%prun\n",
    "# conclusion: dimension does not affect the speed much \n",
    "# (50000 wmd comparison of 3-4words dim300:12s vs dim100: 11s)\n",
    "\n",
    "list1 = ['bezpečnostný', 'opatrenie', 'zviera']\n",
    "list2 = ['tajný', 'služba', 'auto', 'dom']\n",
    "\n",
    "l1 = \"_\".join(list1)\n",
    "l2 = \"_\".join(list2)\n",
    "\n",
    "#print(model_big.wmdistance(l1.split('_'), l2.split('_')))\n",
    "print(model_big.wmdistance(list1, list2))\n",
    "start = time.time()\n",
    "for i in range(50000):\n",
    "    #model_big.wmdistance(list1, list2)\n",
    "    model_big.wmdistance(l1.split('_'), l2.split('_'))\n",
    "\n",
    "print(\"\\ntime: \",time.time()-start)  \n",
    "\n",
    "#print(new_vector_space.wmdistance(l1.split('_'), l2.split('_')))\n",
    "print(new_vector_space.wmdistance(list1, list2))\n",
    "start = time.time()\n",
    "for i in range(50000):\n",
    "    #new_vector_space.wmdistance(list1, list2)\n",
    "    new_vector_space.wmdistance(l1.split('_'), l2.split('_'))\n",
    "\n",
    "print(\"\\ntime: \",time.time()-start)  "
   ]
  },
  {
   "cell_type": "code",
   "execution_count": 54,
   "metadata": {},
   "outputs": [
    {
     "name": "stdout",
     "output_type": "stream",
     "text": [
      "0.6008658\n",
      "\n",
      "time:  2.108680486679077\n",
      "0.6845576186124238\n",
      "\n",
      "time:  1.86521577835083\n",
      "0.6008658\n",
      "\n",
      "time:  2.062317132949829\n",
      "0.6845576186124238\n",
      "\n",
      "time:  1.8391196727752686\n",
      "0.6008658\n",
      "\n",
      "time:  2.074707508087158\n",
      "0.6845576186124238\n",
      "\n",
      "time:  1.8309576511383057\n",
      "0.6008658\n",
      "\n",
      "time:  2.0736265182495117\n",
      "0.6845576186124238\n",
      "\n",
      "time:  1.8727285861968994\n",
      "0.6008658\n",
      "\n",
      "time:  2.120185375213623\n",
      "0.6845576186124238\n",
      "\n",
      "time:  1.8817689418792725\n",
      "0.6008658\n",
      "\n",
      "time:  2.09938383102417\n",
      "0.6845576186124238\n",
      "\n",
      "time:  1.8597073554992676\n",
      "0.6008658\n",
      "\n",
      "time:  2.0889620780944824\n",
      "0.6845576186124238\n",
      "\n",
      "time:  1.9067225456237793\n",
      "0.6008658\n",
      "\n",
      "time:  2.1094563007354736\n",
      "0.6845576186124238\n",
      "\n",
      "time:  1.882667064666748\n",
      "3.96 s ± 38.9 ms per loop (mean ± std. dev. of 7 runs, 1 loop each)\n"
     ]
    }
   ],
   "source": [
    "#%%timeit\n",
    "\n",
    "#print(model_big.wmdistance(l1.split('_'), l2.split('_')))\n",
    "print(model_big.n_similarity(list1, list2))\n",
    "start = time.time()\n",
    "for i in range(50000):\n",
    "    #model_big.wmdistance(list1, list2)\n",
    "    model_big.n_similarity(l1.split('_'), l2.split('_'))\n",
    "\n",
    "print(\"\\ntime: \",time.time()-start)  \n",
    "\n",
    "#print(new_vector_space.wmdistance(l1.split('_'), l2.split('_')))\n",
    "print(new_vector_space.n_similarity(list1, list2))\n",
    "start = time.time()\n",
    "for i in range(50000):\n",
    "    #new_vector_space.wmdistance(list1, list2)\n",
    "    new_vector_space.n_similarity(l1.split('_'), l2.split('_'))\n",
    "\n",
    "print(\"\\ntime: \",time.time()-start)  "
   ]
  }
 ],
 "metadata": {
  "kernelspec": {
   "display_name": "kajo_semexp_core",
   "language": "python",
   "name": "kajo_semexp_core"
  },
  "language_info": {
   "codemirror_mode": {
    "name": "ipython",
    "version": 3
   },
   "file_extension": ".py",
   "mimetype": "text/x-python",
   "name": "python",
   "nbconvert_exporter": "python",
   "pygments_lexer": "ipython3",
   "version": "3.6.9"
  }
 },
 "nbformat": 4,
 "nbformat_minor": 2
}
