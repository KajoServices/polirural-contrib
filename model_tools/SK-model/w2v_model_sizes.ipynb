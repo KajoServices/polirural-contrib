{
 "cells": [
  {
   "cell_type": "code",
   "execution_count": 2,
   "metadata": {},
   "outputs": [
    {
     "name": "stdout",
     "output_type": "stream",
     "text": [
      "cc.cs.300-lemma_500k_min2_excluded.vec.bin\n",
      "File size:  179250148\n",
      "Words:  148193\n",
      "\n",
      "cc.sk.300-lemma_500k_min2_excluded.vec.bin\n",
      "File size:  180023954\n",
      "Words:  148816\n",
      "\n",
      "cc.fi-UPIPE.300-lemma_500k_min2_excluded.vec.bin\n",
      "File size:  191082027\n",
      "Words:  157796\n",
      "\n",
      "cc.fi.300-lemma_500k_min2_excluded.vec.bin\n",
      "File size:  134760607\n",
      "Words:  111253\n",
      "\n",
      "cc.el.300-lemma_500k_min2_excluded.vec.bin\n",
      "File size:  229322888\n",
      "Words:  188506\n",
      "\n",
      "cc.lv.300-lemma_500k_min2_excluded.vec.bin\n",
      "File size:  153284052\n",
      "Words:  126658\n",
      "\n",
      "cc.pl.300-lemma_500k_min2_excluded.vec.bin\n",
      "File size:  148283329\n",
      "Words:  122589\n",
      "\n",
      "cc.nl.300-lemma_500k_min2_excluded.vec.bin\n",
      "File size:  203934360\n",
      "Words:  168494\n",
      "\n",
      "cc.it.300-lemma_500k_min2_excluded.vec.bin\n",
      "File size:  199457393\n",
      "Words:  164954\n",
      "\n",
      "cc.es.300-lemma_500k_min2_excluded.vec.bin\n",
      "File size:  205039783\n",
      "Words:  169586\n",
      "\n"
     ]
    }
   ],
   "source": [
    "from gensim.models import Word2Vec, KeyedVectors\n",
    "import os\n",
    "\n",
    "MODEL_DIR = '/mnt/data/data/models-fasttext/'\n",
    "\n",
    "models = [\n",
    "    'cc.cs.300-lemma_500k_min2_excluded.vec.bin',\n",
    "    'cc.sk.300-lemma_500k_min2_excluded.vec.bin',\n",
    "    'cc.fi-UPIPE.300-lemma_500k_min2_excluded.vec.bin',\n",
    "    'cc.fi.300-lemma_500k_min2_excluded.vec.bin',\n",
    "    'cc.el.300-lemma_500k_min2_excluded.vec.bin',\n",
    "    'cc.lv.300-lemma_500k_min2_excluded.vec.bin',\n",
    "    'cc.pl.300-lemma_500k_min2_excluded.vec.bin',\n",
    "    'cc.nl.300-lemma_500k_min2_excluded.vec.bin',\n",
    "    'cc.it.300-lemma_500k_min2_excluded.vec.bin',\n",
    "    'cc.es.300-lemma_500k_min2_excluded.vec.bin'\n",
    "]\n",
    "\n",
    "for model in models:\n",
    "    print(model)\n",
    "    filename = MODEL_DIR + model\n",
    "    print(\"File size: \", os.path.getsize(filename))\n",
    "    model = KeyedVectors.load_word2vec_format(filename, binary=True)\n",
    "    print(\"Words: \", len(model.index2word))\n",
    "    print()"
   ]
  },
  {
   "cell_type": "code",
   "execution_count": 5,
   "metadata": {},
   "outputs": [
    {
     "name": "stdout",
     "output_type": "stream",
     "text": [
      "File size:  242386788\n",
      "Words:  200221\n",
      "\n"
     ]
    }
   ],
   "source": [
    "filename = '/home/dzon/kajo/new2/semantic-explorer/core/nlp/data/w2v-jiri-slim-extended.bin'\n",
    "print(\"File size: \", os.path.getsize(filename))\n",
    "model = KeyedVectors.load_word2vec_format(filename, binary=True)\n",
    "print(\"Words: \", len(model.index2word))\n",
    "print()"
   ]
  }
 ],
 "metadata": {
  "kernelspec": {
   "display_name": "local-venv",
   "language": "python",
   "name": "local-venv"
  },
  "language_info": {
   "codemirror_mode": {
    "name": "ipython",
    "version": 3
   },
   "file_extension": ".py",
   "mimetype": "text/x-python",
   "name": "python",
   "nbconvert_exporter": "python",
   "pygments_lexer": "ipython3",
   "version": "3.6.9"
  }
 },
 "nbformat": 4,
 "nbformat_minor": 2
}
